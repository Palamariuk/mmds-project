{
 "cells": [
  {
   "cell_type": "code",
   "execution_count": 1,
   "id": "initial_id",
   "metadata": {
    "ExecuteTime": {
     "end_time": "2024-11-17T21:42:46.433176Z",
     "start_time": "2024-11-17T21:42:46.237922Z"
    }
   },
   "outputs": [],
   "source": [
    "from pyspark.sql import SparkSession\n",
    "from pyspark.sql.functions import from_json, col\n",
    "from pyspark.sql.types import StructType, StringType, IntegerType, BooleanType"
   ]
  },
  {
   "cell_type": "code",
   "execution_count": 2,
   "id": "bc01c62961997ff0",
   "metadata": {
    "ExecuteTime": {
     "end_time": "2024-11-17T21:43:01.084260Z",
     "start_time": "2024-11-17T21:43:01.081184Z"
    }
   },
   "outputs": [],
   "source": [
    "# Define Kafka topic and broker\n",
    "KAFKA_BROKER = \"localhost:9092\"\n",
    "KAFKA_TOPIC = \"wiki-changes\""
   ]
  },
  {
   "cell_type": "code",
   "execution_count": 3,
   "id": "d900798b96aa4ff4",
   "metadata": {
    "ExecuteTime": {
     "end_time": "2024-11-17T21:43:01.960481Z",
     "start_time": "2024-11-17T21:43:01.955422Z"
    }
   },
   "outputs": [
    {
     "name": "stdout",
     "output_type": "stream",
     "text": [
      ":: loading settings :: url = jar:file:/Users/mpalamariuk/anaconda3/envs/mmds-project/lib/python3.11/site-packages/pyspark/jars/ivy-2.5.1.jar!/org/apache/ivy/core/settings/ivysettings.xml\n"
     ]
    },
    {
     "name": "stderr",
     "output_type": "stream",
     "text": [
      "Ivy Default Cache set to: /Users/mpalamariuk/.ivy2/cache\n",
      "The jars for the packages stored in: /Users/mpalamariuk/.ivy2/jars\n",
      "org.apache.spark#spark-sql-kafka-0-10_2.12 added as a dependency\n",
      ":: resolving dependencies :: org.apache.spark#spark-submit-parent-af458f16-7dfd-44a6-9653-94d035bfec37;1.0\n",
      "\tconfs: [default]\n",
      "\tfound org.apache.spark#spark-sql-kafka-0-10_2.12;3.5.3 in central\n",
      "\tfound org.apache.spark#spark-token-provider-kafka-0-10_2.12;3.5.3 in central\n",
      "\tfound org.apache.kafka#kafka-clients;3.4.1 in central\n",
      "\tfound org.lz4#lz4-java;1.8.0 in central\n",
      "\tfound org.xerial.snappy#snappy-java;1.1.10.5 in central\n",
      "\tfound org.slf4j#slf4j-api;2.0.7 in central\n",
      "\tfound org.apache.hadoop#hadoop-client-runtime;3.3.4 in central\n",
      "\tfound org.apache.hadoop#hadoop-client-api;3.3.4 in central\n",
      "\tfound commons-logging#commons-logging;1.1.3 in central\n",
      "\tfound com.google.code.findbugs#jsr305;3.0.0 in central\n",
      "\tfound org.apache.commons#commons-pool2;2.11.1 in central\n",
      ":: resolution report :: resolve 549ms :: artifacts dl 15ms\n",
      "\t:: modules in use:\n",
      "\tcom.google.code.findbugs#jsr305;3.0.0 from central in [default]\n",
      "\tcommons-logging#commons-logging;1.1.3 from central in [default]\n",
      "\torg.apache.commons#commons-pool2;2.11.1 from central in [default]\n",
      "\torg.apache.hadoop#hadoop-client-api;3.3.4 from central in [default]\n",
      "\torg.apache.hadoop#hadoop-client-runtime;3.3.4 from central in [default]\n",
      "\torg.apache.kafka#kafka-clients;3.4.1 from central in [default]\n",
      "\torg.apache.spark#spark-sql-kafka-0-10_2.12;3.5.3 from central in [default]\n",
      "\torg.apache.spark#spark-token-provider-kafka-0-10_2.12;3.5.3 from central in [default]\n",
      "\torg.lz4#lz4-java;1.8.0 from central in [default]\n",
      "\torg.slf4j#slf4j-api;2.0.7 from central in [default]\n",
      "\torg.xerial.snappy#snappy-java;1.1.10.5 from central in [default]\n",
      "\t---------------------------------------------------------------------\n",
      "\t|                  |            modules            ||   artifacts   |\n",
      "\t|       conf       | number| search|dwnlded|evicted|| number|dwnlded|\n",
      "\t---------------------------------------------------------------------\n",
      "\t|      default     |   11  |   0   |   0   |   0   ||   11  |   0   |\n",
      "\t---------------------------------------------------------------------\n",
      ":: retrieving :: org.apache.spark#spark-submit-parent-af458f16-7dfd-44a6-9653-94d035bfec37\n",
      "\tconfs: [default]\n",
      "\t0 artifacts copied, 11 already retrieved (0kB/9ms)\n",
      "24/11/18 01:17:00 WARN NativeCodeLoader: Unable to load native-hadoop library for your platform... using builtin-java classes where applicable\n",
      "Setting default log level to \"WARN\".\n",
      "To adjust logging level use sc.setLogLevel(newLevel). For SparkR, use setLogLevel(newLevel).\n",
      "24/11/18 01:17:02 WARN Utils: Service 'SparkUI' could not bind on port 4040. Attempting port 4041.\n",
      "24/11/18 01:17:02 WARN Utils: Service 'SparkUI' could not bind on port 4041. Attempting port 4042.\n",
      "24/11/18 01:17:02 WARN Utils: Service 'SparkUI' could not bind on port 4042. Attempting port 4043.\n",
      "24/11/18 01:17:02 WARN Utils: Service 'SparkUI' could not bind on port 4043. Attempting port 4044.\n"
     ]
    }
   ],
   "source": [
    "# Initialize SparkSession with Kafka support\n",
    "spark = SparkSession.builder \\\n",
    "    .appName(\"WikiChangeStream\") \\\n",
    "    .master(\"spark://localhost:7077\") \\\n",
    "    .config(\"spark.jars.packages\", \"org.apache.spark:spark-sql-kafka-0-10_2.12:3.5.3\") \\\n",
    "    .config(\"spark.executor.memory\", \"1g\") \\\n",
    "    .config(\"spark.executor.cores\", \"1\") \\\n",
    "    .config(\"spark.cores.max\", \"2\") \\\n",
    "    .getOrCreate()"
   ]
  },
  {
   "cell_type": "code",
   "execution_count": 4,
   "id": "9381052075051c6f",
   "metadata": {
    "ExecuteTime": {
     "end_time": "2024-11-17T21:43:17.998348Z",
     "start_time": "2024-11-17T21:43:17.992608Z"
    }
   },
   "outputs": [
    {
     "name": "stderr",
     "output_type": "stream",
     "text": [
      "24/11/18 01:17:08 ERROR TaskSchedulerImpl: Lost an executor 0 (already removed): Unable to create executor due to Too large frame: 5785721462337832960\n",
      "24/11/18 01:17:08 ERROR TaskSchedulerImpl: Lost an executor 1 (already removed): Unable to create executor due to Too large frame: 5785721462337832960\n",
      "24/11/18 01:17:12 ERROR TaskSchedulerImpl: Lost an executor 3 (already removed): Unable to create executor due to Too large frame: 5785721462337832960\n",
      "24/11/18 01:17:12 ERROR TaskSchedulerImpl: Lost an executor 2 (already removed): Unable to create executor due to Too large frame: 5785721462337832960\n",
      "24/11/18 01:17:16 ERROR TaskSchedulerImpl: Lost an executor 5 (already removed): Unable to create executor due to Too large frame: 5785721462337832960\n",
      "24/11/18 01:17:16 ERROR TaskSchedulerImpl: Lost an executor 4 (already removed): Unable to create executor due to Too large frame: 5785721462337832960\n",
      "24/11/18 01:17:20 ERROR TaskSchedulerImpl: Lost an executor 6 (already removed): Unable to create executor due to Too large frame: 5785721462337832960\n",
      "24/11/18 01:17:20 ERROR TaskSchedulerImpl: Lost an executor 7 (already removed): Unable to create executor due to Too large frame: 5785721462337832960\n",
      "24/11/18 01:17:24 ERROR TaskSchedulerImpl: Lost an executor 9 (already removed): Unable to create executor due to Too large frame: 5785721462337832960\n",
      "24/11/18 01:17:24 ERROR TaskSchedulerImpl: Lost an executor 8 (already removed): Unable to create executor due to Too large frame: 5785721462337832960\n",
      "24/11/18 01:17:27 ERROR TaskSchedulerImpl: Lost an executor 10 (already removed): Unable to create executor due to Too large frame: 5785721462337832960\n",
      "24/11/18 01:17:27 ERROR TaskSchedulerImpl: Lost an executor 11 (already removed): Unable to create executor due to Too large frame: 5785721462337832960\n",
      "24/11/18 01:17:32 ERROR TaskSchedulerImpl: Lost an executor 12 (already removed): Unable to create executor due to Too large frame: 5785721462337832960\n",
      "24/11/18 01:17:32 ERROR TaskSchedulerImpl: Lost an executor 13 (already removed): Unable to create executor due to Too large frame: 5785721462337832960\n",
      "24/11/18 01:17:38 ERROR TaskSchedulerImpl: Lost an executor 14 (already removed): Unable to create executor due to Too large frame: 5785721462337832960\n",
      "24/11/18 01:17:38 ERROR TaskSchedulerImpl: Lost an executor 15 (already removed): Unable to create executor due to Too large frame: 5785721462337832960\n",
      "24/11/18 01:17:43 ERROR TaskSchedulerImpl: Lost an executor 16 (already removed): Unable to create executor due to Too large frame: 5785721462337832960\n",
      "24/11/18 01:17:43 ERROR TaskSchedulerImpl: Lost an executor 17 (already removed): Unable to create executor due to Too large frame: 5785721462337832960\n",
      "24/11/18 01:17:48 ERROR TaskSchedulerImpl: Lost an executor 18 (already removed): Unable to create executor due to Too large frame: 5785721462337832960\n",
      "24/11/18 01:17:48 ERROR TaskSchedulerImpl: Lost an executor 19 (already removed): Unable to create executor due to Too large frame: 5785721462337832960\n",
      "24/11/18 01:17:52 ERROR TaskSchedulerImpl: Lost executor 20 on 172.25.0.4: Unable to create executor due to Too large frame: 5785721462337832960\n",
      "24/11/18 01:17:52 ERROR TaskSchedulerImpl: Lost executor 21 on 172.25.0.4: Unable to create executor due to Too large frame: 5785721462337832960\n",
      "24/11/18 01:17:58 ERROR TaskSchedulerImpl: Lost executor 23 on 172.25.0.4: Unable to create executor due to Too large frame: 5785721462337832960\n",
      "24/11/18 01:17:58 ERROR TaskSchedulerImpl: Lost executor 22 on 172.25.0.4: Unable to create executor due to Too large frame: 5785721462337832960\n",
      "24/11/18 01:18:02 ERROR TaskSchedulerImpl: Lost executor 25 on 172.25.0.4: Unable to create executor due to Too large frame: 5785721462337832960\n",
      "24/11/18 01:18:02 ERROR TaskSchedulerImpl: Lost executor 24 on 172.25.0.4: Unable to create executor due to Too large frame: 5785721462337832960\n",
      "24/11/18 01:18:06 ERROR TaskSchedulerImpl: Lost executor 27 on 172.25.0.4: Unable to create executor due to Too large frame: 5785721462337832960\n",
      "24/11/18 01:18:06 ERROR TaskSchedulerImpl: Lost executor 26 on 172.25.0.4: Unable to create executor due to Too large frame: 5785721462337832960\n",
      "24/11/18 01:18:12 ERROR TaskSchedulerImpl: Lost an executor 29 (already removed): Unable to create executor due to Too large frame: 5785721462337832960\n",
      "24/11/18 01:18:12 ERROR TaskSchedulerImpl: Lost an executor 28 (already removed): Unable to create executor due to Too large frame: 5785721462337832960\n",
      "24/11/18 01:18:18 ERROR TaskSchedulerImpl: Lost an executor 30 (already removed): Unable to create executor due to Too large frame: 5785721462337832960\n",
      "24/11/18 01:18:18 ERROR TaskSchedulerImpl: Lost an executor 31 (already removed): Unable to create executor due to Too large frame: 5785721462337832960\n",
      "24/11/18 01:18:24 ERROR TaskSchedulerImpl: Lost an executor 32 (already removed): Unable to create executor due to Too large frame: 5785721462337832960\n",
      "24/11/18 01:18:24 ERROR TaskSchedulerImpl: Lost an executor 33 (already removed): Unable to create executor due to Too large frame: 5785721462337832960\n",
      "24/11/18 01:18:29 ERROR TaskSchedulerImpl: Lost an executor 35 (already removed): Unable to create executor due to Too large frame: 5785721462337832960\n",
      "24/11/18 01:18:29 ERROR TaskSchedulerImpl: Lost an executor 34 (already removed): Unable to create executor due to Too large frame: 5785721462337832960\n",
      "24/11/18 01:18:34 ERROR TaskSchedulerImpl: Lost executor 36 on 172.25.0.4: Unable to create executor due to Too large frame: 5785721462337832960\n",
      "24/11/18 01:18:34 ERROR TaskSchedulerImpl: Lost executor 37 on 172.25.0.4: Unable to create executor due to Too large frame: 5785721462337832960\n",
      "24/11/18 01:18:38 ERROR TaskSchedulerImpl: Lost an executor 38 (already removed): Unable to create executor due to Too large frame: 5785721462337832960\n",
      "24/11/18 01:18:38 ERROR TaskSchedulerImpl: Lost an executor 39 (already removed): Unable to create executor due to Too large frame: 5785721462337832960\n",
      "24/11/18 01:18:43 ERROR TaskSchedulerImpl: Lost an executor 40 (already removed): Unable to create executor due to Too large frame: 5785721462337832960\n",
      "24/11/18 01:18:43 ERROR TaskSchedulerImpl: Lost an executor 41 (already removed): Unable to create executor due to Too large frame: 5785721462337832960\n",
      "24/11/18 01:18:48 ERROR TaskSchedulerImpl: Lost an executor 42 (already removed): Unable to create executor due to Too large frame: 5785721462337832960\n",
      "24/11/18 01:18:48 ERROR TaskSchedulerImpl: Lost an executor 43 (already removed): Unable to create executor due to Too large frame: 5785721462337832960\n",
      "24/11/18 01:18:52 ERROR TaskSchedulerImpl: Lost an executor 44 (already removed): Unable to create executor due to Too large frame: 5785721462337832960\n",
      "24/11/18 01:18:52 ERROR TaskSchedulerImpl: Lost an executor 45 (already removed): Unable to create executor due to Too large frame: 5785721462337832960\n",
      "24/11/18 01:18:59 ERROR TaskSchedulerImpl: Lost executor 46 on 172.25.0.4: Unable to create executor due to Too large frame: 5785721462337832960\n",
      "24/11/18 01:18:59 ERROR TaskSchedulerImpl: Lost an executor 47 (already removed): Unable to create executor due to Too large frame: 5785721462337832960\n",
      "24/11/18 01:19:04 ERROR TaskSchedulerImpl: Lost an executor 48 (already removed): Unable to create executor due to Too large frame: 5785721462337832960\n",
      "24/11/18 01:19:04 ERROR TaskSchedulerImpl: Lost an executor 49 (already removed): Unable to create executor due to Too large frame: 5785721462337832960\n"
     ]
    }
   ],
   "source": [
    "# Schema for Kafka JSON data\n",
    "schema = StructType() \\\n",
    "    .add(\"id\", StringType()) \\\n",
    "    .add(\"title\", StringType()) \\\n",
    "    .add(\"timestamp\", StringType()) \\\n",
    "    .add(\"user\", StringType()) \\\n",
    "    .add(\"bot\", BooleanType()) \\\n",
    "    .add(\"minor\", BooleanType()) \\\n",
    "    .add(\"change\", IntegerType()) \\\n",
    "    .add(\"comment\", StringType())"
   ]
  },
  {
   "cell_type": "code",
   "execution_count": null,
   "id": "dc3460f1065d215b",
   "metadata": {},
   "outputs": [],
   "source": [
    "# Read data from Kafka topic\n",
    "df = spark.readStream \\\n",
    "    .format(\"kafka\") \\\n",
    "    .option(\"kafka.bootstrap.servers\", KAFKA_BROKER) \\\n",
    "    .option(\"subscribe\", KAFKA_TOPIC) \\\n",
    "    .load()\n",
    "\n",
    "# Parse JSON data from Kafka messages\n",
    "parsed_df = df.select(from_json(col(\"value\").cast(\"string\"), schema).alias(\"data\")).select(\"data.*\")\n",
    "\n",
    "# Output the data to the console\n",
    "query = parsed_df.writeStream \\\n",
    "    .outputMode(\"append\") \\\n",
    "    .format(\"console\") \\\n",
    "    .start()\n",
    "\n",
    "query.awaitTermination()"
   ]
  },
  {
   "cell_type": "code",
   "execution_count": null,
   "id": "2f240575-69ed-46a4-ad5f-9112b81c7a6d",
   "metadata": {},
   "outputs": [],
   "source": [
    "spark"
   ]
  },
  {
   "cell_type": "code",
   "execution_count": null,
   "id": "0cdf9cfc-8978-413d-9530-0e7e36876f3f",
   "metadata": {},
   "outputs": [],
   "source": [
    "query.isActive"
   ]
  },
  {
   "cell_type": "code",
   "execution_count": 7,
   "id": "d01b933e-c225-49bd-9515-105ef99c375e",
   "metadata": {},
   "outputs": [
    {
     "name": "stdout",
     "output_type": "stream",
     "text": [
      "sh: spark-submit.sh: No such file or directory\n"
     ]
    },
    {
     "name": "stderr",
     "output_type": "stream",
     "text": [
      "24/11/18 01:19:53 ERROR TaskSchedulerImpl: Lost an executor 70 (already removed): Unable to create executor due to Too large frame: 5785721462337832960\n",
      "24/11/18 01:19:53 ERROR TaskSchedulerImpl: Lost an executor 71 (already removed): Unable to create executor due to Too large frame: 5785721462337832960\n",
      "24/11/18 01:19:57 ERROR TaskSchedulerImpl: Lost an executor 72 (already removed): Unable to create executor due to Too large frame: 5785721462337832960\n",
      "24/11/18 01:19:57 ERROR TaskSchedulerImpl: Lost an executor 73 (already removed): Unable to create executor due to Too large frame: 5785721462337832960\n",
      "24/11/18 01:20:01 ERROR TaskSchedulerImpl: Lost an executor 74 (already removed): Unable to create executor due to Too large frame: 5785721462337832960\n",
      "24/11/18 01:20:01 ERROR TaskSchedulerImpl: Lost an executor 75 (already removed): Unable to create executor due to Too large frame: 5785721462337832960\n",
      "24/11/18 01:20:06 ERROR TaskSchedulerImpl: Lost an executor 76 (already removed): Unable to create executor due to Too large frame: 5785721462337832960\n",
      "24/11/18 01:20:06 ERROR TaskSchedulerImpl: Lost an executor 77 (already removed): Unable to create executor due to Too large frame: 5785721462337832960\n",
      "24/11/18 01:20:10 ERROR TaskSchedulerImpl: Lost an executor 78 (already removed): Unable to create executor due to Too large frame: 5785721462337832960\n",
      "24/11/18 01:20:11 ERROR TaskSchedulerImpl: Lost executor 79 on 172.25.0.4: Unable to create executor due to Too large frame: 5785721462337832960\n",
      "24/11/18 01:20:15 ERROR TaskSchedulerImpl: Lost executor 80 on 172.25.0.4: Unable to create executor due to Too large frame: 5785721462337832960\n",
      "24/11/18 01:20:15 ERROR TaskSchedulerImpl: Lost an executor 81 (already removed): Unable to create executor due to Too large frame: 5785721462337832960\n",
      "24/11/18 01:20:19 ERROR TaskSchedulerImpl: Lost an executor 82 (already removed): Unable to create executor due to Too large frame: 5785721462337832960\n",
      "24/11/18 01:20:19 ERROR TaskSchedulerImpl: Lost an executor 83 (already removed): Unable to create executor due to Too large frame: 5785721462337832960\n",
      "24/11/18 01:20:24 ERROR TaskSchedulerImpl: Lost an executor 84 (already removed): Unable to create executor due to Too large frame: 5785721462337832960\n",
      "24/11/18 01:20:24 ERROR TaskSchedulerImpl: Lost an executor 85 (already removed): Unable to create executor due to Too large frame: 5785721462337832960\n",
      "24/11/18 01:20:28 ERROR TaskSchedulerImpl: Lost an executor 86 (already removed): Unable to create executor due to Too large frame: 5785721462337832960\n",
      "24/11/18 01:20:28 ERROR TaskSchedulerImpl: Lost an executor 87 (already removed): Unable to create executor due to Too large frame: 5785721462337832960\n",
      "24/11/18 01:20:34 ERROR TaskSchedulerImpl: Lost an executor 88 (already removed): Unable to create executor due to Too large frame: 5785721462337832960\n",
      "24/11/18 01:20:34 ERROR TaskSchedulerImpl: Lost an executor 89 (already removed): Unable to create executor due to Too large frame: 5785721462337832960\n",
      "24/11/18 01:20:39 ERROR TaskSchedulerImpl: Lost an executor 90 (already removed): Unable to create executor due to Too large frame: 5785721462337832960\n",
      "24/11/18 01:20:39 ERROR TaskSchedulerImpl: Lost an executor 91 (already removed): Unable to create executor due to Too large frame: 5785721462337832960\n",
      "24/11/18 01:20:44 ERROR TaskSchedulerImpl: Lost an executor 92 (already removed): Unable to create executor due to Too large frame: 5785721462337832960\n",
      "24/11/18 01:20:44 ERROR TaskSchedulerImpl: Lost an executor 93 (already removed): Unable to create executor due to Too large frame: 5785721462337832960\n",
      "24/11/18 01:20:49 ERROR TaskSchedulerImpl: Lost executor 94 on 172.25.0.4: Unable to create executor due to Too large frame: 5785721462337832960\n",
      "24/11/18 01:20:49 ERROR TaskSchedulerImpl: Lost an executor 95 (already removed): Unable to create executor due to Too large frame: 5785721462337832960\n",
      "24/11/18 01:20:54 ERROR TaskSchedulerImpl: Lost an executor 96 (already removed): Unable to create executor due to Too large frame: 5785721462337832960\n",
      "24/11/18 01:20:54 ERROR TaskSchedulerImpl: Lost executor 97 on 172.25.0.4: Unable to create executor due to Too large frame: 5785721462337832960\n",
      "24/11/18 01:20:58 ERROR TaskSchedulerImpl: Lost executor 98 on 172.25.0.4: Unable to create executor due to Too large frame: 5785721462337832960\n",
      "24/11/18 01:20:58 ERROR TaskSchedulerImpl: Lost executor 99 on 172.25.0.4: Unable to create executor due to Too large frame: 5785721462337832960\n",
      "24/11/18 01:21:02 ERROR TaskSchedulerImpl: Lost an executor 100 (already removed): Unable to create executor due to Too large frame: 5785721462337832960\n",
      "24/11/18 01:21:02 ERROR TaskSchedulerImpl: Lost an executor 101 (already removed): Unable to create executor due to Too large frame: 5785721462337832960\n",
      "24/11/18 01:21:06 ERROR TaskSchedulerImpl: Lost an executor 102 (already removed): Unable to create executor due to Too large frame: 5785721462337832960\n",
      "24/11/18 01:21:06 ERROR TaskSchedulerImpl: Lost an executor 103 (already removed): Unable to create executor due to Too large frame: 5785721462337832960\n",
      "24/11/18 01:21:11 ERROR TaskSchedulerImpl: Lost executor 104 on 172.25.0.4: Unable to create executor due to Too large frame: 5785721462337832960\n",
      "24/11/18 01:21:11 ERROR TaskSchedulerImpl: Lost executor 105 on 172.25.0.4: Unable to create executor due to Too large frame: 5785721462337832960\n",
      "24/11/18 01:21:16 ERROR TaskSchedulerImpl: Lost an executor 106 (already removed): Unable to create executor due to Too large frame: 5785721462337832960\n",
      "24/11/18 01:21:16 ERROR TaskSchedulerImpl: Lost an executor 107 (already removed): Unable to create executor due to Too large frame: 5785721462337832960\n",
      "24/11/18 01:21:20 ERROR TaskSchedulerImpl: Lost an executor 108 (already removed): Unable to create executor due to Too large frame: 5785721462337832960\n",
      "24/11/18 01:21:21 ERROR TaskSchedulerImpl: Lost executor 109 on 172.25.0.4: Unable to create executor due to Too large frame: 5785721462337832960\n",
      "24/11/18 01:21:25 ERROR TaskSchedulerImpl: Lost executor 110 on 172.25.0.4: Unable to create executor due to Too large frame: 5785721462337832960\n",
      "24/11/18 01:21:25 ERROR TaskSchedulerImpl: Lost executor 111 on 172.25.0.4: Unable to create executor due to Too large frame: 5785721462337832960\n",
      "24/11/18 01:21:30 ERROR TaskSchedulerImpl: Lost executor 113 on 172.25.0.4: Unable to create executor due to Too large frame: 5785721462337832960\n",
      "24/11/18 01:21:30 ERROR TaskSchedulerImpl: Lost executor 112 on 172.25.0.4: Unable to create executor due to Too large frame: 5785721462337832960\n",
      "24/11/18 01:21:34 ERROR TaskSchedulerImpl: Lost an executor 114 (already removed): Unable to create executor due to Too large frame: 5785721462337832960\n",
      "24/11/18 01:21:34 ERROR TaskSchedulerImpl: Lost an executor 115 (already removed): Unable to create executor due to Too large frame: 5785721462337832960\n",
      "24/11/18 01:21:44 ERROR TaskSchedulerImpl: Lost executor 118 on 172.25.0.4: Unable to create executor due to Too large frame: 5785721462337832960\n",
      "24/11/18 01:21:44 ERROR TaskSchedulerImpl: Lost executor 119 on 172.25.0.4: Unable to create executor due to Too large frame: 5785721462337832960\n",
      "24/11/18 01:21:48 ERROR TaskSchedulerImpl: Lost an executor 120 (already removed): Unable to create executor due to Too large frame: 5785721462337832960\n",
      "24/11/18 01:21:48 ERROR TaskSchedulerImpl: Lost executor 121 on 172.25.0.4: Unable to create executor due to Too large frame: 5785721462337832960\n",
      "24/11/18 01:21:51 ERROR TaskSchedulerImpl: Lost an executor 122 (already removed): Unable to create executor due to Too large frame: 5785721462337832960\n",
      "24/11/18 01:21:52 ERROR TaskSchedulerImpl: Lost an executor 123 (already removed): Unable to create executor due to Too large frame: 5785721462337832960\n",
      "24/11/18 01:21:56 ERROR TaskSchedulerImpl: Lost an executor 124 (already removed): Unable to create executor due to Too large frame: 5785721462337832960\n",
      "24/11/18 01:21:56 ERROR TaskSchedulerImpl: Lost an executor 125 (already removed): Unable to create executor due to Too large frame: 5785721462337832960\n",
      "24/11/18 01:22:00 ERROR TaskSchedulerImpl: Lost an executor 126 (already removed): Unable to create executor due to Too large frame: 5785721462337832960\n",
      "24/11/18 01:22:00 ERROR TaskSchedulerImpl: Lost an executor 127 (already removed): Unable to create executor due to Too large frame: 5785721462337832960\n",
      "24/11/18 01:22:06 ERROR TaskSchedulerImpl: Lost an executor 128 (already removed): Unable to create executor due to Too large frame: 5785721462337832960\n",
      "24/11/18 01:22:06 ERROR TaskSchedulerImpl: Lost executor 129 on 172.25.0.4: Unable to create executor due to Too large frame: 5785721462337832960\n",
      "24/11/18 01:22:11 ERROR TaskSchedulerImpl: Lost an executor 130 (already removed): Unable to create executor due to Too large frame: 5785721462337832960\n",
      "24/11/18 01:22:12 ERROR TaskSchedulerImpl: Lost executor 131 on 172.25.0.4: Unable to create executor due to Too large frame: 5785721462337832960\n"
     ]
    }
   ],
   "source": []
  },
  {
   "cell_type": "code",
   "execution_count": null,
   "id": "769286fb-a9b1-4cd2-abea-12f92d9d91df",
   "metadata": {},
   "outputs": [],
   "source": []
  }
 ],
 "metadata": {
  "kernelspec": {
   "display_name": "Python 3 (ipykernel)",
   "language": "python",
   "name": "python3"
  },
  "language_info": {
   "codemirror_mode": {
    "name": "ipython",
    "version": 3
   },
   "file_extension": ".py",
   "mimetype": "text/x-python",
   "name": "python",
   "nbconvert_exporter": "python",
   "pygments_lexer": "ipython3",
   "version": "3.11.10"
  }
 },
 "nbformat": 4,
 "nbformat_minor": 5
}
