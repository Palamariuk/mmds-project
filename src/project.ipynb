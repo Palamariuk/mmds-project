{
 "nbformat": 4,
 "nbformat_minor": 0,
 "metadata": {
  "colab": {
   "provenance": [],
   "collapsed_sections": [
    "ZVYARa0bv0_8",
    "Am7kDELDv-a2",
    "IRDD7p-yxXyx"
   ]
  },
  "kernelspec": {
   "name": "python3",
   "display_name": "Python 3"
  },
  "language_info": {
   "name": "python"
  }
 },
 "cells": [
  {
   "cell_type": "markdown",
   "source": "# 0. Env setup",
   "metadata": {
    "id": "z1usdlu-vtgX"
   }
  },
  {
   "cell_type": "code",
   "source": [
    "!apt-get install openjdk-8-jdk-headless -qq > /dev/null\n",
    "!pip install pyspark\n",
    "!pip install sseclient\n",
    "!pip install bitarray mmh3"
   ],
   "metadata": {
    "colab": {
     "base_uri": "https://localhost:8080/"
    },
    "id": "57yw2OF-qWxT",
    "outputId": "5ebb7893-0d5d-4323-a4a5-2ab67cf1dc7e"
   },
   "execution_count": 1,
   "outputs": [
    {
     "output_type": "stream",
     "name": "stdout",
     "text": [
      "Requirement already satisfied: pyspark in /usr/local/lib/python3.10/dist-packages (3.5.3)\n",
      "Requirement already satisfied: py4j==0.10.9.7 in /usr/local/lib/python3.10/dist-packages (from pyspark) (0.10.9.7)\n",
      "Collecting sseclient\n",
      "  Downloading sseclient-0.0.27.tar.gz (7.5 kB)\n",
      "  Preparing metadata (setup.py) ... \u001B[?25l\u001B[?25hdone\n",
      "Requirement already satisfied: requests>=2.9 in /usr/local/lib/python3.10/dist-packages (from sseclient) (2.32.3)\n",
      "Requirement already satisfied: six in /usr/local/lib/python3.10/dist-packages (from sseclient) (1.16.0)\n",
      "Requirement already satisfied: charset-normalizer<4,>=2 in /usr/local/lib/python3.10/dist-packages (from requests>=2.9->sseclient) (3.4.0)\n",
      "Requirement already satisfied: idna<4,>=2.5 in /usr/local/lib/python3.10/dist-packages (from requests>=2.9->sseclient) (3.10)\n",
      "Requirement already satisfied: urllib3<3,>=1.21.1 in /usr/local/lib/python3.10/dist-packages (from requests>=2.9->sseclient) (2.2.3)\n",
      "Requirement already satisfied: certifi>=2017.4.17 in /usr/local/lib/python3.10/dist-packages (from requests>=2.9->sseclient) (2024.8.30)\n",
      "Building wheels for collected packages: sseclient\n",
      "  Building wheel for sseclient (setup.py) ... \u001B[?25l\u001B[?25hdone\n",
      "  Created wheel for sseclient: filename=sseclient-0.0.27-py3-none-any.whl size=5564 sha256=c23589de77bbe2a0323c486ca5d38fec99d5fa4e9a6eaa3e48a8678e124196c1\n",
      "  Stored in directory: /root/.cache/pip/wheels/60/57/0e/09b1264923280e935a34cc543b7f147f5df12490bd7a992f42\n",
      "Successfully built sseclient\n",
      "Installing collected packages: sseclient\n",
      "Successfully installed sseclient-0.0.27\n",
      "Collecting bitarray\n",
      "  Downloading bitarray-3.0.0-cp310-cp310-manylinux_2_17_x86_64.manylinux2014_x86_64.whl.metadata (32 kB)\n",
      "Collecting mmh3\n",
      "  Downloading mmh3-5.0.1-cp310-cp310-manylinux_2_5_x86_64.manylinux1_x86_64.manylinux_2_17_x86_64.manylinux2014_x86_64.whl.metadata (14 kB)\n",
      "Downloading bitarray-3.0.0-cp310-cp310-manylinux_2_17_x86_64.manylinux2014_x86_64.whl (278 kB)\n",
      "\u001B[2K   \u001B[90m━━━━━━━━━━━━━━━━━━━━━━━━━━━━━━━━━━━━━━━━\u001B[0m \u001B[32m278.3/278.3 kB\u001B[0m \u001B[31m6.2 MB/s\u001B[0m eta \u001B[36m0:00:00\u001B[0m\n",
      "\u001B[?25hDownloading mmh3-5.0.1-cp310-cp310-manylinux_2_5_x86_64.manylinux1_x86_64.manylinux_2_17_x86_64.manylinux2014_x86_64.whl (93 kB)\n",
      "\u001B[2K   \u001B[90m━━━━━━━━━━━━━━━━━━━━━━━━━━━━━━━━━━━━━━━━\u001B[0m \u001B[32m93.2/93.2 kB\u001B[0m \u001B[31m5.1 MB/s\u001B[0m eta \u001B[36m0:00:00\u001B[0m\n",
      "\u001B[?25hInstalling collected packages: bitarray, mmh3\n",
      "Successfully installed bitarray-3.0.0 mmh3-5.0.1\n"
     ]
    }
   ]
  },
  {
   "cell_type": "code",
   "execution_count": 2,
   "metadata": {
    "id": "tAe7eXkNqPEf"
   },
   "outputs": [],
   "source": [
    "import datetime\n",
    "import time\n",
    "import json\n",
    "import os\n",
    "\n",
    "from sseclient import SSEClient as EventSource\n",
    "from tqdm import tqdm"
   ]
  },
  {
   "cell_type": "code",
   "source": [
    "import matplotlib.pyplot as plt\n",
    "import seaborn as sns\n",
    "import pandas as pd\n",
    "import mmh3\n",
    "\n",
    "from bitarray import bitarray"
   ],
   "metadata": {
    "id": "b3MYz0aVJfRK"
   },
   "execution_count": 3,
   "outputs": []
  },
  {
   "cell_type": "code",
   "source": [
    "from pyspark.sql import SparkSession\n",
    "from pyspark.sql import functions as F\n",
    "from pyspark.sql.types import BooleanType, IntegerType, StringType, StructField, StructType\n",
    "from pyspark.sql.functions import udf, col\n",
    "\n",
    "from pyspark.ml import Pipeline\n",
    "from pyspark.ml.classification import RandomForestClassifier\n",
    "from pyspark.ml.evaluation import MulticlassClassificationEvaluator\n",
    "from pyspark.ml.feature import Tokenizer, HashingTF, IDF, VectorAssembler, StandardScaler\n",
    "from pyspark.ml.tuning import CrossValidator, ParamGridBuilder"
   ],
   "metadata": {
    "id": "W_y2YIFgDKDO"
   },
   "execution_count": 8,
   "outputs": []
  },
  {
   "cell_type": "markdown",
   "source": "# 1. Sample from the Stream",
   "metadata": {
    "id": "ZVYARa0bv0_8"
   }
  },
  {
   "cell_type": "code",
   "source": [
    "# Wikimedia Stream URL\n",
    "STREAM_URL = 'https://stream.wikimedia.org/v2/stream/recentchange'\n",
    "WIKI = 'enwiki'  # Client-side filter\n",
    "\n",
    "# Configuration\n",
    "SAMPLE_RATE = 0.2  # Keep 20% of records"
   ],
   "metadata": {
    "id": "EjJqwnVOqUNn"
   },
   "execution_count": null,
   "outputs": []
  },
  {
   "cell_type": "code",
   "source": [
    "def is_sampled(record_id, sample_rate=SAMPLE_RATE):\n",
    "    return hash(record_id) % 100 < sample_rate * 100\n",
    "\n",
    "\n",
    "def get_url(base_url, since):\n",
    "    return base_url + '?since=' + str(int(time.mktime(since.timetuple())))\n",
    "\n",
    "\n",
    "def sample_data(url, output_folder, num_records, chunk_size, wiki=WIKI, sample_rate=SAMPLE_RATE):\n",
    "    os.makedirs(output_folder, exist_ok=True)\n",
    "\n",
    "    # Data collection\n",
    "    sampled_records = []\n",
    "\n",
    "    # Initialize tqdm progress bar\n",
    "    with tqdm(total=num_records, desc=\"Processing Records\", dynamic_ncols=True) as progress_bar:\n",
    "        # Process events from the stream\n",
    "        for event in EventSource(url):\n",
    "            if progress_bar.n >= num_records:  # Ensure we don't exceed the required number of records\n",
    "                break\n",
    "\n",
    "            try:\n",
    "                change = json.loads(event.data)\n",
    "                # Filter for specific wiki and type\n",
    "                if change.get(\"wiki\") == wiki and change.get('type') == 'edit':\n",
    "                    record_id = change.get(\"id\")\n",
    "                    if is_sampled(record_id, sample_rate):  # Apply hash-based sampling\n",
    "                        sampled_records.append({\n",
    "                            \"id\": record_id,\n",
    "                            \"title\": change.get(\"title\"),\n",
    "                            \"timestamp\": change.get(\"timestamp\"),\n",
    "                            \"user\": change.get(\"user\"),\n",
    "                            \"bot\": change.get(\"bot\"),\n",
    "                            \"minor\": change.get(\"minor\"),\n",
    "                            \"change\": change.get(\"length\", {}).get(\"new\", 0) - change.get(\"length\", {}).get(\"old\", 0),\n",
    "                            \"comment\": change.get(\"comment\"),\n",
    "                        })\n",
    "                        progress_bar.update(1)  # Update the progress bar\n",
    "\n",
    "                        # Write to CSV every chunk_size records\n",
    "                        if len(sampled_records) >= chunk_size:\n",
    "                            output_file = os.path.join(output_folder,\n",
    "                                                       f\"sampled_data_{progress_bar.n // chunk_size}.csv\")\n",
    "                            pd.DataFrame(sampled_records).to_csv(output_file, index=False)\n",
    "                            sampled_records = []  # Clear the buffer\n",
    "\n",
    "            except json.JSONDecodeError:\n",
    "                continue\n",
    "\n",
    "        # Write any remaining records\n",
    "        if sampled_records:\n",
    "            output_file = os.path.join(output_folder, f\"sampled_data_{(progress_bar.n // chunk_size) + 1}.csv\")\n",
    "            pd.DataFrame(sampled_records).to_csv(output_file, index=False)"
   ],
   "metadata": {
    "id": "COLXWIyir_2M"
   },
   "execution_count": null,
   "outputs": []
  },
  {
   "cell_type": "code",
   "source": [
    "sample_data(\n",
    "    url=get_url(STREAM_URL, since=datetime.datetime(2024, 11, 10, 00, 00)),\n",
    "    output_folder='training_data',\n",
    "    num_records=40000,\n",
    "    chunk_size=10000\n",
    ")"
   ],
   "metadata": {
    "id": "h6U7kq4wsBCm",
    "colab": {
     "base_uri": "https://localhost:8080/",
     "height": 382
    },
    "outputId": "6ae28457-c129-4246-ef62-a2490698f1c4"
   },
   "execution_count": null,
   "outputs": [
    {
     "output_type": "stream",
     "name": "stderr",
     "text": [
      "Processing Records:   5%|▍         | 1882/40000 [00:50<16:59, 37.39it/s]\n"
     ]
    },
    {
     "output_type": "error",
     "ename": "KeyboardInterrupt",
     "evalue": "",
     "traceback": [
      "\u001B[0;31m---------------------------------------------------------------------------\u001B[0m",
      "\u001B[0;31mKeyboardInterrupt\u001B[0m                         Traceback (most recent call last)",
      "\u001B[0;32m<ipython-input-79-db5cd6a4e191>\u001B[0m in \u001B[0;36m<cell line: 1>\u001B[0;34m()\u001B[0m\n\u001B[0;32m----> 1\u001B[0;31m sample_data(\n\u001B[0m\u001B[1;32m      2\u001B[0m     \u001B[0murl\u001B[0m\u001B[0;34m=\u001B[0m\u001B[0mget_url\u001B[0m\u001B[0;34m(\u001B[0m\u001B[0mSTREAM_URL\u001B[0m\u001B[0;34m,\u001B[0m \u001B[0msince\u001B[0m\u001B[0;34m=\u001B[0m\u001B[0mdatetime\u001B[0m\u001B[0;34m.\u001B[0m\u001B[0mdatetime\u001B[0m\u001B[0;34m(\u001B[0m\u001B[0;36m2024\u001B[0m\u001B[0;34m,\u001B[0m \u001B[0;36m11\u001B[0m\u001B[0;34m,\u001B[0m \u001B[0;36m10\u001B[0m\u001B[0;34m,\u001B[0m \u001B[0;36m00\u001B[0m\u001B[0;34m,\u001B[0m \u001B[0;36m00\u001B[0m\u001B[0;34m)\u001B[0m\u001B[0;34m)\u001B[0m\u001B[0;34m,\u001B[0m\u001B[0;34m\u001B[0m\u001B[0;34m\u001B[0m\u001B[0m\n\u001B[1;32m      3\u001B[0m     \u001B[0moutput_folder\u001B[0m\u001B[0;34m=\u001B[0m\u001B[0;34m'training_data'\u001B[0m\u001B[0;34m,\u001B[0m\u001B[0;34m\u001B[0m\u001B[0;34m\u001B[0m\u001B[0m\n\u001B[1;32m      4\u001B[0m     \u001B[0mnum_records\u001B[0m\u001B[0;34m=\u001B[0m\u001B[0;36m40000\u001B[0m\u001B[0;34m,\u001B[0m\u001B[0;34m\u001B[0m\u001B[0;34m\u001B[0m\u001B[0m\n\u001B[1;32m      5\u001B[0m     \u001B[0mchunk_size\u001B[0m\u001B[0;34m=\u001B[0m\u001B[0;36m10000\u001B[0m\u001B[0;34m\u001B[0m\u001B[0;34m\u001B[0m\u001B[0m\n",
      "\u001B[0;32m<ipython-input-78-a1b033eed77c>\u001B[0m in \u001B[0;36msample_data\u001B[0;34m(url, output_folder, num_records, chunk_size, wiki, sample_rate)\u001B[0m\n\u001B[1;32m     16\u001B[0m     \u001B[0;32mwith\u001B[0m \u001B[0mtqdm\u001B[0m\u001B[0;34m(\u001B[0m\u001B[0mtotal\u001B[0m\u001B[0;34m=\u001B[0m\u001B[0mnum_records\u001B[0m\u001B[0;34m,\u001B[0m \u001B[0mdesc\u001B[0m\u001B[0;34m=\u001B[0m\u001B[0;34m\"Processing Records\"\u001B[0m\u001B[0;34m,\u001B[0m \u001B[0mdynamic_ncols\u001B[0m\u001B[0;34m=\u001B[0m\u001B[0;32mTrue\u001B[0m\u001B[0;34m)\u001B[0m \u001B[0;32mas\u001B[0m \u001B[0mprogress_bar\u001B[0m\u001B[0;34m:\u001B[0m\u001B[0;34m\u001B[0m\u001B[0;34m\u001B[0m\u001B[0m\n\u001B[1;32m     17\u001B[0m         \u001B[0;31m# Process events from the stream\u001B[0m\u001B[0;34m\u001B[0m\u001B[0;34m\u001B[0m\u001B[0m\n\u001B[0;32m---> 18\u001B[0;31m         \u001B[0;32mfor\u001B[0m \u001B[0mevent\u001B[0m \u001B[0;32min\u001B[0m \u001B[0mEventSource\u001B[0m\u001B[0;34m(\u001B[0m\u001B[0murl\u001B[0m\u001B[0;34m)\u001B[0m\u001B[0;34m:\u001B[0m\u001B[0;34m\u001B[0m\u001B[0;34m\u001B[0m\u001B[0m\n\u001B[0m\u001B[1;32m     19\u001B[0m             \u001B[0;32mif\u001B[0m \u001B[0mprogress_bar\u001B[0m\u001B[0;34m.\u001B[0m\u001B[0mn\u001B[0m \u001B[0;34m>=\u001B[0m \u001B[0mnum_records\u001B[0m\u001B[0;34m:\u001B[0m  \u001B[0;31m# Ensure we don't exceed the required number of records\u001B[0m\u001B[0;34m\u001B[0m\u001B[0;34m\u001B[0m\u001B[0m\n\u001B[1;32m     20\u001B[0m                 \u001B[0;32mbreak\u001B[0m\u001B[0;34m\u001B[0m\u001B[0;34m\u001B[0m\u001B[0m\n",
      "\u001B[0;32m/usr/local/lib/python3.10/dist-packages/sseclient.py\u001B[0m in \u001B[0;36m__next__\u001B[0;34m(self)\u001B[0m\n\u001B[1;32m     90\u001B[0m         \u001B[0;32mwhile\u001B[0m \u001B[0;32mnot\u001B[0m \u001B[0mself\u001B[0m\u001B[0;34m.\u001B[0m\u001B[0m_event_complete\u001B[0m\u001B[0;34m(\u001B[0m\u001B[0;34m)\u001B[0m\u001B[0;34m:\u001B[0m\u001B[0;34m\u001B[0m\u001B[0;34m\u001B[0m\u001B[0m\n\u001B[1;32m     91\u001B[0m             \u001B[0;32mtry\u001B[0m\u001B[0;34m:\u001B[0m\u001B[0;34m\u001B[0m\u001B[0;34m\u001B[0m\u001B[0m\n\u001B[0;32m---> 92\u001B[0;31m                 \u001B[0mnext_chunk\u001B[0m \u001B[0;34m=\u001B[0m \u001B[0mnext\u001B[0m\u001B[0;34m(\u001B[0m\u001B[0mself\u001B[0m\u001B[0;34m.\u001B[0m\u001B[0mresp_iterator\u001B[0m\u001B[0;34m)\u001B[0m\u001B[0;34m\u001B[0m\u001B[0;34m\u001B[0m\u001B[0m\n\u001B[0m\u001B[1;32m     93\u001B[0m                 \u001B[0;32mif\u001B[0m \u001B[0;32mnot\u001B[0m \u001B[0mnext_chunk\u001B[0m\u001B[0;34m:\u001B[0m\u001B[0;34m\u001B[0m\u001B[0;34m\u001B[0m\u001B[0m\n\u001B[1;32m     94\u001B[0m                     \u001B[0;32mraise\u001B[0m \u001B[0mEOFError\u001B[0m\u001B[0;34m(\u001B[0m\u001B[0;34m)\u001B[0m\u001B[0;34m\u001B[0m\u001B[0;34m\u001B[0m\u001B[0m\n",
      "\u001B[0;32m/usr/local/lib/python3.10/dist-packages/sseclient.py\u001B[0m in \u001B[0;36mgenerate\u001B[0;34m()\u001B[0m\n\u001B[1;32m     69\u001B[0m                         \u001B[0mhasattr\u001B[0m\u001B[0;34m(\u001B[0m\u001B[0mself\u001B[0m\u001B[0;34m.\u001B[0m\u001B[0mresp\u001B[0m\u001B[0;34m.\u001B[0m\u001B[0mraw\u001B[0m\u001B[0;34m.\u001B[0m\u001B[0m_fp\u001B[0m\u001B[0;34m,\u001B[0m \u001B[0;34m'fp'\u001B[0m\u001B[0;34m)\u001B[0m \u001B[0;32mand\u001B[0m\u001B[0;31m \u001B[0m\u001B[0;31m\\\u001B[0m\u001B[0;34m\u001B[0m\u001B[0;34m\u001B[0m\u001B[0m\n\u001B[1;32m     70\u001B[0m                         \u001B[0mhasattr\u001B[0m\u001B[0;34m(\u001B[0m\u001B[0mself\u001B[0m\u001B[0;34m.\u001B[0m\u001B[0mresp\u001B[0m\u001B[0;34m.\u001B[0m\u001B[0mraw\u001B[0m\u001B[0;34m.\u001B[0m\u001B[0m_fp\u001B[0m\u001B[0;34m.\u001B[0m\u001B[0mfp\u001B[0m\u001B[0;34m,\u001B[0m \u001B[0;34m'read1'\u001B[0m\u001B[0;34m)\u001B[0m\u001B[0;34m:\u001B[0m\u001B[0;34m\u001B[0m\u001B[0;34m\u001B[0m\u001B[0m\n\u001B[0;32m---> 71\u001B[0;31m                     \u001B[0mchunk\u001B[0m \u001B[0;34m=\u001B[0m \u001B[0mself\u001B[0m\u001B[0;34m.\u001B[0m\u001B[0mresp\u001B[0m\u001B[0;34m.\u001B[0m\u001B[0mraw\u001B[0m\u001B[0;34m.\u001B[0m\u001B[0m_fp\u001B[0m\u001B[0;34m.\u001B[0m\u001B[0mfp\u001B[0m\u001B[0;34m.\u001B[0m\u001B[0mread1\u001B[0m\u001B[0;34m(\u001B[0m\u001B[0mself\u001B[0m\u001B[0;34m.\u001B[0m\u001B[0mchunk_size\u001B[0m\u001B[0;34m)\u001B[0m\u001B[0;34m\u001B[0m\u001B[0;34m\u001B[0m\u001B[0m\n\u001B[0m\u001B[1;32m     72\u001B[0m                 \u001B[0;32melse\u001B[0m\u001B[0;34m:\u001B[0m\u001B[0;34m\u001B[0m\u001B[0;34m\u001B[0m\u001B[0m\n\u001B[1;32m     73\u001B[0m                     \u001B[0;31m# _fp is not available, this means that we cannot use short\u001B[0m\u001B[0;34m\u001B[0m\u001B[0;34m\u001B[0m\u001B[0m\n",
      "\u001B[0;32m/usr/lib/python3.10/socket.py\u001B[0m in \u001B[0;36mreadinto\u001B[0;34m(self, b)\u001B[0m\n\u001B[1;32m    699\u001B[0m         \u001B[0mself\u001B[0m\u001B[0;34m.\u001B[0m\u001B[0m_checkClosed\u001B[0m\u001B[0;34m(\u001B[0m\u001B[0;34m)\u001B[0m\u001B[0;34m\u001B[0m\u001B[0;34m\u001B[0m\u001B[0m\n\u001B[1;32m    700\u001B[0m         \u001B[0mself\u001B[0m\u001B[0;34m.\u001B[0m\u001B[0m_checkReadable\u001B[0m\u001B[0;34m(\u001B[0m\u001B[0;34m)\u001B[0m\u001B[0;34m\u001B[0m\u001B[0;34m\u001B[0m\u001B[0m\n\u001B[0;32m--> 701\u001B[0;31m         \u001B[0;32mif\u001B[0m \u001B[0mself\u001B[0m\u001B[0;34m.\u001B[0m\u001B[0m_timeout_occurred\u001B[0m\u001B[0;34m:\u001B[0m\u001B[0;34m\u001B[0m\u001B[0;34m\u001B[0m\u001B[0m\n\u001B[0m\u001B[1;32m    702\u001B[0m             \u001B[0;32mraise\u001B[0m \u001B[0mOSError\u001B[0m\u001B[0;34m(\u001B[0m\u001B[0;34m\"cannot read from timed out object\"\u001B[0m\u001B[0;34m)\u001B[0m\u001B[0;34m\u001B[0m\u001B[0;34m\u001B[0m\u001B[0m\n\u001B[1;32m    703\u001B[0m         \u001B[0;32mwhile\u001B[0m \u001B[0;32mTrue\u001B[0m\u001B[0;34m:\u001B[0m\u001B[0;34m\u001B[0m\u001B[0;34m\u001B[0m\u001B[0m\n",
      "\u001B[0;31mKeyboardInterrupt\u001B[0m: "
     ]
    }
   ]
  },
  {
   "cell_type": "code",
   "source": [
    "sample_data(\n",
    "    url=STREAM_URL,\n",
    "    output_folder='unlabeled_data',\n",
    "    num_records=40000,\n",
    "    chunk_size=10000\n",
    ")"
   ],
   "metadata": {
    "id": "tdZE4pzssGdR"
   },
   "execution_count": null,
   "outputs": []
  },
  {
   "cell_type": "code",
   "source": [],
   "metadata": {
    "id": "08yWzaSf2kHt"
   },
   "execution_count": null,
   "outputs": []
  },
  {
   "cell_type": "markdown",
   "source": [
    "# 2. Distribution of edits per human users and bots."
   ],
   "metadata": {
    "id": "Am7kDELDv-a2"
   }
  },
  {
   "cell_type": "code",
   "source": [
    "spark = SparkSession.builder.appName(\"ExploratoryDataAnalysis\").getOrCreate()"
   ],
   "metadata": {
    "id": "Pciwud4MD3bS"
   },
   "execution_count": null,
   "outputs": []
  },
  {
   "cell_type": "code",
   "source": [
    "data_path = \"data/\"\n",
    "\n",
    "df = spark.read.csv(f\"{data_path}/*.csv\", header=True, inferSchema=True)\n",
    "df.show()\n",
    "\n",
    "df.printSchema()"
   ],
   "metadata": {
    "id": "1Y9MOJSHv7Hx"
   },
   "execution_count": null,
   "outputs": []
  },
  {
   "cell_type": "markdown",
   "source": [
    "## 2.1 Assuming the stream is too big to store distinct users in memory"
   ],
   "metadata": {
    "id": "qP3J5v1-wauj"
   }
  },
  {
   "cell_type": "markdown",
   "source": [
    "**Assymption**: We want to estimate the number of distinct items in a data stream that is too large to fit in memory. By using this numbers inside selected time periods we will see the aproximate distribution.\n",
    "\n",
    "\n",
    "1. We aim to use results as a way to draw data distribution with a given assumbtion that we cannot count it as it is.\n",
    "2. We want to compare results based on probabilistic distinct users count and real distinct users count.\n",
    "3. We will add HyperLogLog algorithm to comparison (from spark approx_count_distinct function).\n",
    "\n",
    "\n",
    "**Step 1**:\n",
    "We hash each element in the stream and track specific patterns in the hash values to estimate distinct elements.\n",
    "\n",
    "Multiple random hash functions are created for parallel estimations.\n",
    "\n",
    "Track the smallest hash value (minima) for each hash function.\n",
    "\n",
    "Combine the minima from all hash functions to estimate the size of the unique set.\n",
    "\n",
    "This approach avoids storing all user and bot data by using hashing. It sacrifices exact counts for efficiency and scalability, which is essential with large-scale streams of data."
   ],
   "metadata": {
    "id": "l8n8yXXBwBRh"
   }
  },
  {
   "cell_type": "code",
   "source": [
    "import random\n",
    "from pyspark.sql.functions import from_unixtime, date_format, collect_list, col\n",
    "from pyspark.sql.types import StructType, StructField, StringType, FloatType\n",
    "\n",
    "# Hashing to Estimate the Size of a Stream\n",
    "def randomHash(modulus):\n",
    "    a, b = random.randint(0, modulus-1), random.randint(0, modulus-1)\n",
    "    def f(x):\n",
    "        return (a * x + b) % modulus\n",
    "    return f\n",
    "\n",
    "def flajolet_martin(stream, numParallelHashes=18):\n",
    "    modulus = 2**20\n",
    "    hashes = [randomHash(modulus) for _ in range(numParallelHashes)]\n",
    "    minima = [modulus] * numParallelHashes\n",
    "\n",
    "    for i in stream:\n",
    "        hashValues = [h(hash(i)) for h in hashes]\n",
    "        for j, newValue in enumerate(hashValues):\n",
    "            minima[j] = min(minima[j], newValue)\n",
    "\n",
    "    return modulus / sum(minima) * len(minima)\n",
    "\n",
    "\n",
    "df = df.withColumn(\"formatted_timestamp\", from_unixtime(col(\"timestamp\")))\n",
    "df = df.withColumn(\"hour\", date_format(col(\"formatted_timestamp\"), \"yyyy-MM-dd HH:00:00\"))\n",
    "df = df.dropna(subset=[\"hour\"])\n",
    "\n",
    "time_grouped = df.groupBy(\"hour\").agg(\n",
    "    collect_list(\"user\").alias(\"user_names\"),\n",
    "    collect_list(\"bot\").alias(\"bot_flags\")\n",
    ")\n",
    "\n",
    "def apply_flajolet_martin(row):\n",
    "    user_estimate = flajolet_martin(row[\"user_names\"])\n",
    "    bot_estimate = flajolet_martin([name for name, is_bot in zip(row[\"user_names\"], row[\"bot_flags\"]) if is_bot == 'True'])\n",
    "    return (row[\"hour\"], float(user_estimate), float(bot_estimate))\n",
    "\n",
    "# Resilient Distributed Dataset\n",
    "time_grouped_rdd = time_grouped.rdd.map(lambda row: apply_flajolet_martin(row))\n",
    "\n",
    "schema = StructType([\n",
    "    StructField(\"hour\", StringType(), True),\n",
    "    StructField(\"distinct_users\", FloatType(), True),\n",
    "    StructField(\"distinct_bots\", FloatType(), True),\n",
    "])\n",
    "\n",
    "final_df = spark.createDataFrame(time_grouped_rdd, schema=schema).orderBy(\"hour\")\n",
    "final_df.show()"
   ],
   "metadata": {
    "id": "XNZ4skWcwB3b"
   },
   "execution_count": null,
   "outputs": []
  },
  {
   "cell_type": "markdown",
   "source": [
    "**Step 2**:\n",
    "\n",
    "Calculate real counts of human users and bots."
   ],
   "metadata": {
    "id": "y-5cIrHAwLPV"
   }
  },
  {
   "cell_type": "code",
   "source": [
    "from pyspark.sql.functions import countDistinct, when\n",
    "\n",
    "real_counts_df = df.groupBy(\"hour\").agg(\n",
    "    countDistinct(col(\"user\")).alias(\"real_distinct_users\"),\n",
    "    countDistinct(when(col(\"bot\") == 'True', col(\"user\"))).alias(\"real_distinct_bots\")\n",
    ")\n",
    "\n",
    "\n",
    "real_counts_df = real_counts_df.withColumn(\"hour\", F.to_timestamp(\"hour\"))\n",
    "real_counts_df = real_counts_df.orderBy(\"hour\")\n",
    "\n",
    "real_counts_df.show()"
   ],
   "metadata": {
    "id": "K3i5wtOiwNDP"
   },
   "execution_count": null,
   "outputs": []
  },
  {
   "cell_type": "markdown",
   "source": [
    "**Step 3**:\n",
    "\n",
    "Combine estimated and real counts in order to see the distributuions."
   ],
   "metadata": {
    "id": "8fQpo3qxwNsi"
   }
  },
  {
   "cell_type": "code",
   "source": [
    "import matplotlib.pyplot as plt\n",
    "\n",
    "# Convert Spark DataFrames to Pandas and prepare the data\n",
    "pandas_df = final_df.toPandas()\n",
    "pandas_df['hour'] = pandas_df['hour'].astype('datetime64[ns]')\n",
    "pandas_df = pandas_df.sort_values(by='hour')\n",
    "comparison_df = pandas_df.merge(real_counts_df.toPandas(), on=\"hour\", suffixes=(\"_estimate\", \"_real\"))\n",
    "\n",
    "# Plot 1: Users\n",
    "plt.figure(figsize=(8, 4))\n",
    "plt.plot(comparison_df['hour'], comparison_df['distinct_users'], label='Humans (Estimate)', linestyle='--', marker='o')\n",
    "plt.plot(comparison_df['hour'], comparison_df['real_distinct_users'], label='Humans (Real)', marker='o')\n",
    "\n",
    "plt.xlabel('Time (Hour)')\n",
    "plt.ylabel('Distinct Count')\n",
    "plt.title('Comparison of Estimated and Real Distinct Users Over Time')\n",
    "plt.legend()\n",
    "plt.grid()\n",
    "plt.xticks(rotation=45)\n",
    "plt.tight_layout()\n",
    "plt.show()\n",
    "\n",
    "# Plot 2: Bots\n",
    "plt.figure(figsize=(8, 4))\n",
    "plt.plot(comparison_df['hour'], comparison_df['distinct_bots'], label='Bots (Estimate)', linestyle='--', marker='o')\n",
    "plt.plot(comparison_df['hour'], comparison_df['real_distinct_bots'], label='Bots (Real)', marker='o')\n",
    "\n",
    "plt.xlabel('Time (Hour)')\n",
    "plt.ylabel('Distinct Count')\n",
    "plt.title('Comparison of Estimated and Real Distinct Bots Over Time')\n",
    "plt.legend()\n",
    "plt.grid()\n",
    "plt.xticks(rotation=45)\n",
    "plt.tight_layout()\n",
    "plt.show()\n"
   ],
   "metadata": {
    "id": "1EGsrWppHfb3"
   },
   "execution_count": null,
   "outputs": []
  },
  {
   "cell_type": "markdown",
   "source": [
    "**Conclusion:**\n",
    "\n",
    "The Flajolet-Martin algorithm is effective to get the approximation of the distribution of distinct entities. As we see on the charts we were able to get overall trend."
   ],
   "metadata": {
    "id": "zpLK0BDDwTIv"
   }
  },
  {
   "cell_type": "markdown",
   "source": [
    "**Step 4**:\n",
    "\n",
    "Comparing to approx_count_distinct which implements a boosted version of flajolet_martin algorithms HyperLogLog."
   ],
   "metadata": {
    "id": "ePvmqtLqwVGy"
   }
  },
  {
   "cell_type": "code",
   "source": [
    "from pyspark.sql.functions import approx_count_distinct\n",
    "\n",
    "spark_approx_counts = df.groupBy(\"hour\").agg(\n",
    "    approx_count_distinct(col(\"user\")).alias(\"spark_approx_users\"),\n",
    "    approx_count_distinct(when(col(\"bot\") == True, col(\"user\"))).alias(\"spark_approx_bots\")\n",
    ")\n",
    "\n",
    "spark_approx_counts_df = spark_approx_counts.toPandas()\n",
    "spark_approx_counts_df['hour'] = spark_approx_counts_df['hour'].astype('datetime64[ns]')\n",
    "spark_approx_counts_df = spark_approx_counts_df.sort_values(by='hour')\n",
    "comparison_df = spark_approx_counts_df.merge(real_counts_df.toPandas(), on=\"hour\", suffixes=(\"_estimate\", \"_real\"))\n",
    "\n",
    "# Plot 1: Users\n",
    "plt.figure(figsize=(8, 4))\n",
    "plt.plot(comparison_df['hour'], comparison_df['spark_approx_users'], label='Humans (Estimate)', linestyle='--', marker='o')\n",
    "plt.plot(comparison_df['hour'], comparison_df['real_distinct_users'], label='Humans (Real)', marker='o')\n",
    "\n",
    "plt.xlabel('Time (Hour)')\n",
    "plt.ylabel('Distinct Count')\n",
    "plt.title('Comparison of Estimated and Real Distinct Users Over Time')\n",
    "plt.legend()\n",
    "plt.grid()\n",
    "plt.xticks(rotation=45)\n",
    "plt.tight_layout()\n",
    "plt.show()\n",
    "\n",
    "# Plot 2: Bots\n",
    "plt.figure(figsize=(8, 4))\n",
    "plt.plot(comparison_df['hour'], comparison_df['spark_approx_bots'], label='Bots (Estimate)', linestyle='--', marker='o')\n",
    "plt.plot(comparison_df['hour'], comparison_df['real_distinct_bots'], label='Bots (Real)', marker='o')\n",
    "\n",
    "plt.xlabel('Time (Hour)')\n",
    "plt.ylabel('Distinct Count')\n",
    "plt.title('Comparison of Estimated and Real Distinct Bots Over Time')\n",
    "plt.legend()\n",
    "plt.grid()\n",
    "plt.xticks(rotation=45)\n",
    "plt.tight_layout()\n",
    "plt.show()\n"
   ],
   "metadata": {
    "id": "hHBxv3X7wS0j"
   },
   "execution_count": null,
   "outputs": []
  },
  {
   "cell_type": "markdown",
   "source": [
    "**Summary**:\n",
    "\n",
    "HyperLogLog is a an improvement compared to Flajolet-Martin. We can clearly see that this algorithm is much smother and better with the aproximation."
   ],
   "metadata": {
    "id": "9bQOx4muwXhm"
   }
  },
  {
   "cell_type": "markdown",
   "source": [
    "## 2.2 Exploration of edits events"
   ],
   "metadata": {
    "id": "mFItLujswieZ"
   }
  },
  {
   "cell_type": "code",
   "source": [
    "import matplotlib.pyplot as plt\n",
    "import seaborn as sns\n",
    "import numpy as np\n",
    "\n",
    "# Graphics in retina format are more sharp and legible\n",
    "%config InlineBackend.figure_format = 'retina'\n",
    "\n",
    "pd_df = df.toPandas()"
   ],
   "metadata": {
    "id": "FSynwxmpwjXA"
   },
   "execution_count": null,
   "outputs": []
  },
  {
   "cell_type": "code",
   "source": [
    "pd_df['change'] = pd.to_numeric(pd_df['change'], errors='coerce')\n",
    "pd_df[\"comment_len\"] = pd_df[\"comment\"].str.len()\n",
    "\n",
    "pd_df['log_change'] = np.where(\n",
    "    pd_df['change'] > 0, np.log1p(pd_df['change']),   # log(1 + x) for positive values\n",
    "    -np.log1p(-pd_df['change'])                       # -log(1 + |x|) for negative values\n",
    ")"
   ],
   "metadata": {
    "id": "oPXMDtHowk6m"
   },
   "execution_count": null,
   "outputs": []
  },
  {
   "cell_type": "markdown",
   "source": [
    "### **Histogram of \"change\" distribution** for bots and humans."
   ],
   "metadata": {
    "id": "LzAyug-9w5BS"
   }
  },
  {
   "cell_type": "code",
   "source": [
    "plt.figure(figsize=(12, 6))\n",
    "sns.histplot(data=pd_df[pd_df['change'] < 0], x=\"log_change\", hue=\"bot\", element=\"step\", kde=True, bins=30)\n",
    "plt.title(\"Distribution of 'Change' for Bots and Humans\")\n",
    "plt.xlabel(\"Change\")\n",
    "plt.ylabel(\"Frequency\")\n",
    "plt.show()"
   ],
   "metadata": {
    "id": "GrqaJvI2w5YB"
   },
   "execution_count": null,
   "outputs": []
  },
  {
   "cell_type": "code",
   "source": [
    "plt.figure(figsize=(12, 6))\n",
    "sns.histplot(data=pd_df, x=\"log_change\", hue=\"bot\", element=\"step\", kde=True, bins=30)\n",
    "plt.title(\"Distribution of 'Change' for Bots and Humans\")\n",
    "plt.xlabel(\"Change\")\n",
    "plt.ylabel(\"Frequency\")\n",
    "plt.show()"
   ],
   "metadata": {
    "id": "gvJ9L0Ncw6wy"
   },
   "execution_count": null,
   "outputs": []
  },
  {
   "cell_type": "markdown",
   "source": [
    "This plot suggest that the bots perform more limited behavior (frequent change = 0), while humans usually show greater variability, which indicates that their actions are more diverse."
   ],
   "metadata": {
    "id": "X550fjNXw9_A"
   }
  },
  {
   "cell_type": "markdown",
   "source": [
    "**Distribution** without outliers"
   ],
   "metadata": {
    "id": "CbgL9o7pw_6Y"
   }
  },
  {
   "cell_type": "code",
   "source": [
    "Q1 = pd_df['change'].quantile(0.25)\n",
    "Q3 = pd_df['change'].quantile(0.75)\n",
    "IQR = Q3 - Q1\n",
    "\n",
    "lower_bound = Q1 - 1.5 * IQR\n",
    "upper_bound = Q3 + 1.5 * IQR\n",
    "\n",
    "\n",
    "filtered_data_pd = pd_df[(pd_df['change'] >= lower_bound) & (pd_df['change'] <= upper_bound)]\n",
    "\n",
    "plt.figure(figsize=(12, 6))\n",
    "sns.histplot(data=filtered_data_pd, x=\"change\", hue=\"bot\", element=\"step\", kde=True, bins=30)\n",
    "plt.title(\"Distribution of 'Change' Without Outliers for Bots and Humans\")\n",
    "plt.xlabel(\"Change\")\n",
    "plt.ylabel(\"Frequency\")\n",
    "plt.show()"
   ],
   "metadata": {
    "id": "1vZd8G2uxCE6"
   },
   "execution_count": null,
   "outputs": []
  },
  {
   "cell_type": "markdown",
   "source": [
    "This plot shows that bots tend to perform repetitive tasks with minimal changes, at the same time humans do different actions."
   ],
   "metadata": {
    "id": "ix_AIFdwxBeY"
   }
  },
  {
   "cell_type": "markdown",
   "source": [
    "# 3. Humans/Bots Classifier"
   ],
   "metadata": {
    "id": "8IOEV1TSxGQw"
   }
  },
  {
   "cell_type": "code",
   "source": [
    "spark = SparkSession.builder.appName(\"RandomForestBotClassifier\").getOrCreate()"
   ],
   "metadata": {
    "id": "WRDta7RrIxWm"
   },
   "execution_count": 5,
   "outputs": []
  },
  {
   "cell_type": "code",
   "source": [
    "schema = StructType([\n",
    "    StructField(\"id\", IntegerType(), True),\n",
    "    StructField(\"title\", StringType(), True),\n",
    "    StructField(\"timestamp\", IntegerType(), True),\n",
    "    StructField(\"user\", StringType(), True),\n",
    "    StructField(\"bot\", BooleanType(), True),\n",
    "    StructField(\"minor\", BooleanType(), True),\n",
    "    StructField(\"change\", IntegerType(), True),\n",
    "    StructField(\"comment\", StringType(), True)\n",
    "])"
   ],
   "metadata": {
    "id": "a_AmsMsrIxY9"
   },
   "execution_count": 6,
   "outputs": []
  },
  {
   "cell_type": "code",
   "source": [
    "data = spark.read.csv(\"data\", schema=schema, header=True)\n",
    "data = (\n",
    "    data\n",
    "    .withColumn(\"comment\", F.coalesce(F.col(\"comment\"), F.lit(\"\")))\n",
    "    .withColumn(\"bot\", F.col('bot').cast(\"double\"))\n",
    "    .withColumn(\"minor\", F.col('minor').cast(\"double\"))\n",
    "    .withColumn(\"comment_length\", F.length(\"comment\").cast(\"double\"))\n",
    "    .fillna({\n",
    "        \"minor\": 0,\n",
    "        \"change\": 0,\n",
    "        \"comment_length\": 0\n",
    "    })\n",
    "    .drop(\"id\", \"title\", \"timestamp\")\n",
    "    .na.drop(subset=[\"bot\"])\n",
    ")"
   ],
   "metadata": {
    "id": "VCNLcZOPIxbV"
   },
   "execution_count": 7,
   "outputs": []
  },
  {
   "cell_type": "code",
   "source": [
    "tokenizer = Tokenizer(inputCol=\"comment\", outputCol=\"tokens\")\n",
    "hashingTF = HashingTF(inputCol=\"tokens\", outputCol=\"tf_features\", numFeatures=100)\n",
    "idf = IDF(inputCol=\"tf_features\", outputCol=\"text_features\")\n",
    "\n",
    "assembler = VectorAssembler(\n",
    "    inputCols=[\"minor\", \"change\", \"comment_length\"],\n",
    "    outputCol=\"numeric_features\",\n",
    "    handleInvalid=\"skip\"  # Skip invalid rows\n",
    ")\n",
    "scaler = StandardScaler(inputCol=\"numeric_features\", outputCol=\"scaled_numeric_features\", withMean=True, withStd=True)\n",
    "\n",
    "final_assembler = VectorAssembler(inputCols=[\"scaled_numeric_features\", \"text_features\"], outputCol=\"features\")\n",
    "\n",
    "rf = RandomForestClassifier(\n",
    "    labelCol=\"bot\",\n",
    "    featuresCol=\"features\",\n",
    "    numTrees=20,\n",
    "    maxDepth=5\n",
    ")\n",
    "\n",
    "pipeline = Pipeline(stages=[tokenizer, hashingTF, idf, assembler, scaler, final_assembler, rf])\n",
    "\n",
    "paramGrid = ParamGridBuilder() \\\n",
    "    .addGrid(rf.numTrees, [10, 20, 50]) \\\n",
    "    .addGrid(rf.maxDepth, [5, 10, 15]) \\\n",
    "    .build()\n",
    "\n",
    "evaluator = MulticlassClassificationEvaluator(\n",
    "    labelCol=\"bot\", predictionCol=\"prediction\", metricName=\"f1\"\n",
    ")\n",
    "\n",
    "crossval = CrossValidator(\n",
    "    estimator=pipeline,\n",
    "    estimatorParamMaps=paramGrid,\n",
    "    evaluator=evaluator,\n",
    "    numFolds=5\n",
    ")\n",
    "\n",
    "train_data, test_data = data.randomSplit([0.8, 0.2], seed=42)\n",
    "cvModel = crossval.fit(train_data)"
   ],
   "metadata": {
    "id": "L6jlH7_SJFTw"
   },
   "execution_count": 9,
   "outputs": []
  },
  {
   "cell_type": "code",
   "source": [
    "best_model = cvModel.bestModel"
   ],
   "metadata": {
    "id": "iHmLbrv83DrP"
   },
   "execution_count": 10,
   "outputs": []
  },
  {
   "cell_type": "code",
   "source": [
    "predictions = best_model.transform(test_data)"
   ],
   "metadata": {
    "id": "usAZp9lQpI-0"
   },
   "execution_count": 11,
   "outputs": []
  },
  {
   "cell_type": "code",
   "source": [
    "recall = MulticlassClassificationEvaluator(\n",
    "    labelCol=\"bot\", predictionCol=\"prediction\", metricName=\"weightedRecall\"\n",
    ").evaluate(predictions)\n",
    "\n",
    "precision = MulticlassClassificationEvaluator(\n",
    "    labelCol=\"bot\", predictionCol=\"prediction\", metricName=\"weightedPrecision\"\n",
    ").evaluate(predictions)\n",
    "\n",
    "f1 = evaluator.evaluate(predictions)\n",
    "\n",
    "print(f\"Bot Prediction Recall: {recall:.2f}\")\n",
    "print(f\"Bot Prediction Precision: {precision:.2f}\")\n",
    "print(f\"Bot Prediction F1-score: {f1:.2f}\")\n",
    "\n",
    "predictions.groupBy(\"bot\", \"prediction\").count().show()"
   ],
   "metadata": {
    "colab": {
     "base_uri": "https://localhost:8080/"
    },
    "id": "jd8n3azM1Mwl",
    "outputId": "902c87d9-5871-4b63-a293-d3e6e484777e"
   },
   "execution_count": 12,
   "outputs": [
    {
     "output_type": "stream",
     "name": "stdout",
     "text": [
      "Bot Prediction Recall: 0.99\n",
      "Bot Prediction Precision: 0.99\n",
      "Bot Prediction F1-score: 0.99\n",
      "+---+----------+-----+\n",
      "|bot|prediction|count|\n",
      "+---+----------+-----+\n",
      "|1.0|       1.0| 2089|\n",
      "|1.0|       0.0|   94|\n",
      "|0.0|       0.0| 5700|\n",
      "|0.0|       1.0|    1|\n",
      "+---+----------+-----+\n",
      "\n"
     ]
    }
   ]
  },
  {
   "cell_type": "code",
   "source": [
    "confusion_matrix_pivot = (\n",
    "    predictions\n",
    "    .groupBy(\"bot\", \"prediction\")\n",
    "    .count()\n",
    "    .groupBy(\"bot\")\n",
    "    .pivot(\"prediction\", [0, 1])\n",
    "    .sum(\"count\")\n",
    "    .fillna(0)\n",
    ")\n",
    "\n",
    "# Convert to Pandas and format\n",
    "confusion_matrix_pandas = confusion_matrix_pivot.toPandas().set_index(\"bot\")\n",
    "confusion_matrix_pandas.rename(columns={0: \"Predicted 0\", 1: \"Predicted 1\"}, index={0: \"Actual 0\", 1: \"Actual 1\"},\n",
    "                               inplace=True)\n",
    "\n",
    "# Plot the confusion matrix\n",
    "plt.figure(figsize=(6, 4))\n",
    "sns.heatmap(confusion_matrix_pandas, annot=True, fmt=\"d\", cmap=\"Blues\")\n",
    "plt.title(\"Confusion Matrix\")\n",
    "plt.ylabel(\"Actual Label\")\n",
    "plt.xlabel(\"Predicted Label\")\n",
    "plt.show()\n"
   ],
   "metadata": {
    "colab": {
     "base_uri": "https://localhost:8080/",
     "height": 410
    },
    "id": "Jyq2LpsDJFOu",
    "outputId": "49d2fc00-b8c6-4537-cbad-e560c3fb1b61"
   },
   "execution_count": 13,
   "outputs": [
    {
     "output_type": "display_data",
     "data": {
      "text/plain": [
       "<Figure size 600x400 with 2 Axes>"
      ],
      "image/png": "[encoded data removed]"
     },
     "metadata": {}
    }
   ]
  },
  {
   "cell_type": "code",
   "source": [
    "(\n",
    "    predictions\n",
    "    .select(\"user\", \"bot\", \"prediction\")\n",
    "    .select(F.countDistinct(\"user\").alias(\"distinct_users\"),\n",
    "            F.countDistinct(F.when(F.col(\"bot\") == 1.0, F.col(\"user\"))).alias(\"distinct_real_bots\"),\n",
    "            F.countDistinct(F.when(F.col(\"prediction\") == 1.0, F.col(\"user\"))).alias(\"distinct_predicted_bots\")\n",
    "    )\n",
    ").show()"
   ],
   "metadata": {
    "colab": {
     "base_uri": "https://localhost:8080/"
    },
    "id": "y5H7vDENJFMU",
    "outputId": "8fed921b-a926-4af7-a8a4-1020d69ec723"
   },
   "execution_count": 14,
   "outputs": [
    {
     "output_type": "stream",
     "name": "stdout",
     "text": [
      "+--------------+------------------+-----------------------+\n",
      "|distinct_users|distinct_real_bots|distinct_predicted_bots|\n",
      "+--------------+------------------+-----------------------+\n",
      "|          3125|                61|                     39|\n",
      "+--------------+------------------+-----------------------+\n",
      "\n"
     ]
    }
   ]
  },
  {
   "cell_type": "code",
   "source": [
    "predictions.where((F.col(\"bot\") == 1.0) & (F.col(\"prediction\") == 0.0)).show()"
   ],
   "metadata": {
    "colab": {
     "base_uri": "https://localhost:8080/"
    },
    "id": "wFQb4_Oficwu",
    "outputId": "9f42ee48-ceee-4408-9300-1964aa1abddc"
   },
   "execution_count": 15,
   "outputs": [
    {
     "output_type": "stream",
     "name": "stdout",
     "text": [
      "+------------------+---+-----+------+--------------------+--------------+--------------------+--------------------+--------------------+-------------------+-----------------------+--------------------+--------------------+--------------------+----------+\n",
      "|              user|bot|minor|change|             comment|comment_length|              tokens|         tf_features|       text_features|   numeric_features|scaled_numeric_features|            features|       rawPrediction|         probability|prediction|\n",
      "+------------------+---+-----+------+--------------------+--------------+--------------------+--------------------+--------------------+-------------------+-----------------------+--------------------+--------------------+--------------------+----------+\n",
      "|         AnomieBOT|1.0|  0.0|  -103|(BOT) Updating di...|          78.0|[(bot), updating,...|(100,[11,21,25,31...|(100,[11,21,25,31...|  [0.0,-103.0,78.0]|   [-0.7533853407034...|(103,[0,1,2,14,24...|[40.3533108274968...|[0.80706621654993...|       0.0|\n",
      "|         AnomieBOT|1.0|  0.0|   -59|[[Wikipedia:WikiP...|         198.0|[[[wikipedia:wiki...|(100,[7,9,17,35,4...|(100,[7,9,17,35,4...|  [0.0,-59.0,198.0]|   [-0.7533853407034...|(103,[0,1,2,10,12...|[25.3465297218274...|[0.50693059443654...|       0.0|\n",
      "|         AnomieBOT|1.0|  0.0|   -51|[[Wikipedia:WikiP...|         202.0|[[[wikipedia:wiki...|(100,[7,24,35,44,...|(100,[7,24,35,44,...|  [0.0,-51.0,202.0]|   [-0.7533853407034...|(103,[0,1,2,10,27...|[27.2529654666475...|[0.54505930933295...|       0.0|\n",
      "|         AnomieBOT|1.0|  1.0|    38|Dating maintenanc...|          53.0|[dating, maintena...|(100,[4,32,42,48,...|(100,[4,32,42,48,...|    [1.0,38.0,53.0]|   [1.32730066130467...|(103,[0,1,2,7,35,...|[25.3666311630598...|[0.50733262326119...|       0.0|\n",
      "|     AnomieBOT III|1.0|  0.0|  -834|Updating broken r...|          30.0|[updating, broken...|(100,[28,36,83,97...|(100,[28,36,83,97...|  [0.0,-834.0,30.0]|   [-0.7533853407034...|(103,[0,1,2,31,39...|[31.8291255974740...|[0.63658251194948...|       0.0|\n",
      "|             B-bot|1.0|  0.0|  1131|Notification that...|         129.0|[notification, th...|(100,[4,9,17,20,3...|(100,[4,9,17,20,3...| [0.0,1131.0,129.0]|   [-0.7533853407034...|(103,[0,1,2,7,12,...|[28.7329285899539...|[0.57465857179907...|       0.0|\n",
      "|             B-bot|1.0|  0.0|  1135|Notification that...|         131.0|[notification, th...|(100,[8,9,20,24,4...|(100,[8,9,20,24,4...| [0.0,1135.0,131.0]|   [-0.7533853407034...|(103,[0,1,2,11,12...|[28.3937913018306...|[0.56787582603661...|       0.0|\n",
      "|          BattyBot|1.0|  1.0|    -8|Fixed [[:Category...|         117.0|[fixed, [[:catego...|(100,[1,13,17,19,...|(100,[1,13,17,19,...|   [1.0,-8.0,117.0]|   [1.32730066130467...|(103,[0,1,2,4,16,...|[49.0793370457976...|[0.98158674091595...|       0.0|\n",
      "|            Cewbot|1.0|  1.0|    -1|[[User:Cewbot/log...|         167.0|[[[user:cewbot/lo...|(100,[14,26,49,57...|(100,[14,26,49,57...|   [1.0,-1.0,167.0]|   [1.32730066130467...|(103,[0,1,2,17,29...|[40.4858981443480...|[0.80971796288696...|       0.0|\n",
      "|            Cewbot|1.0|  1.0|    -1|[[User:Cewbot/log...|         167.0|[[[user:cewbot/lo...|(100,[14,26,49,57...|(100,[14,26,49,57...|   [1.0,-1.0,167.0]|   [1.32730066130467...|(103,[0,1,2,17,29...|[40.4858981443480...|[0.80971796288696...|       0.0|\n",
      "|       ClueBot III|1.0|  0.0| -5850|Updating detailed...|         138.0|[updating, detail...|(100,[30,31,36,44...|(100,[30,31,36,44...|[0.0,-5850.0,138.0]|   [-0.7533853407034...|(103,[0,1,2,33,34...|[28.5055170659374...|[0.57011034131874...|       0.0|\n",
      "|        Cyberbot I|1.0|  0.0|   -10|Clearing the sand...|          82.0|[clearing, the, s...|(100,[16,17,33,56...|(100,[16,17,33,56...|   [0.0,-10.0,82.0]|   [-0.7533853407034...|(103,[0,1,2,19,20...|[35.8485300277781...|[0.71697060055556...|       0.0|\n",
      "|           DPL bot|1.0|  1.0|     0|Update Dab Challe...|          28.0|[update, dab, cha...|(100,[30,35,60,81...|(100,[30,35,60,81...|     [1.0,0.0,28.0]|   [1.32730066130467...|(103,[0,1,2,33,38...|[37.4327574056999...|[0.74865514811399...|       0.0|\n",
      "|           DPL bot|1.0|  1.0|     0|Update Dab Challe...|          28.0|[update, dab, cha...|(100,[30,35,60,81...|(100,[30,35,60,81...|     [1.0,0.0,28.0]|   [1.32730066130467...|(103,[0,1,2,33,38...|[37.4327574056999...|[0.74865514811399...|       0.0|\n",
      "|DYKHousekeepingBot|1.0|  0.0|     0|Bot updating DYK ...|          37.0|[bot, updating, d...|(100,[21,36,40,55...|(100,[21,36,40,55...|     [0.0,0.0,37.0]|   [-0.7533853407034...|(103,[0,1,2,24,39...|[30.4911726307940...|[0.60982345261588...|       0.0|\n",
      "|      DeltaQuadBot|1.0|  0.0|  -366|[[User:DeltaQuadB...|          90.0|[[[user:deltaquad...|(100,[16,21,30,52...|(100,[16,21,30,52...|  [0.0,-366.0,90.0]|   [-0.7533853407034...|(103,[0,1,2,19,24...|[35.3628354719411...|[0.70725670943882...|       0.0|\n",
      "|      DeltaQuadBot|1.0|  0.0|  -183|[[User:DeltaQuadB...|          90.0|[[[user:deltaquad...|(100,[16,21,30,52...|(100,[16,21,30,52...|  [0.0,-183.0,90.0]|   [-0.7533853407034...|(103,[0,1,2,19,24...|[40.1405582746157...|[0.80281116549231...|       0.0|\n",
      "|      DeltaQuadBot|1.0|  0.0|    30|Updating SPI case...|          21.0|[updating, spi, c...|(100,[0,36,63],[1...|(100,[0,36,63],[3...|    [0.0,30.0,21.0]|   [-0.7533853407034...|(103,[0,1,2,3,39,...|[26.3452883263348...|[0.52690576652669...|       0.0|\n",
      "|        FireflyBot|1.0|  0.0|   780|([[Wikipedia:Bots...|         139.0|[([[wikipedia:bot...|(100,[4,6,53,60,6...|(100,[4,6,53,60,6...|  [0.0,780.0,139.0]|   [-0.7533853407034...|(103,[0,1,2,7,9,5...|[28.5981986249064...|[0.57196397249812...|       0.0|\n",
      "|        GalliumBot|1.0|  1.0|   245|/* DYK for Deutsc...|         126.0|[/*, dyk, for, de...|(100,[6,9,11,16,2...|(100,[6,9,11,16,2...|  [1.0,245.0,126.0]|   [1.32730066130467...|(103,[0,1,2,9,12,...|[46.4103202579892...|[0.92820640515978...|       0.0|\n",
      "+------------------+---+-----+------+--------------------+--------------+--------------------+--------------------+--------------------+-------------------+-----------------------+--------------------+--------------------+--------------------+----------+\n",
      "only showing top 20 rows\n",
      "\n"
     ]
    }
   ]
  },
  {
   "cell_type": "markdown",
   "source": [
    "# 4. Finalized Bots user names list based on the Classifier"
   ],
   "metadata": {
    "id": "IRDD7p-yxXyx"
   }
  },
  {
   "cell_type": "code",
   "source": [
    "unlabeled_data = spark.read.csv(\"unlabeled_data\", schema=schema, header=True)\n",
    "unlabeled_data = (\n",
    "    unlabeled_data\n",
    "    # .drop('bot')\n",
    "    .withColumn(\"comment\", F.coalesce(F.col(\"comment\"), F.lit(\"\")))\n",
    "    .withColumn(\"bot\", F.col('bot').cast(\"double\"))\n",
    "    .withColumn(\"minor\", F.col('minor').cast(\"double\"))\n",
    "    .withColumn(\"comment_length\", F.length(\"comment\").cast(\"double\"))\n",
    "    .fillna({\n",
    "        \"minor\": 0,\n",
    "        \"change\": 0,\n",
    "        \"comment_length\": 0\n",
    "    })\n",
    "    .drop(\"id\", \"title\", \"timestamp\")\n",
    "    .na.drop(subset=[\"bot\"])\n",
    ")"
   ],
   "metadata": {
    "id": "DgVY8GdrJFBn"
   },
   "execution_count": 16,
   "outputs": []
  },
  {
   "cell_type": "code",
   "source": [
    "predictions_df = cvModel.transform(data.unionByName(unlabeled_data, allowMissingColumns=True))"
   ],
   "metadata": {
    "id": "GG-e4Ne-KTjQ"
   },
   "execution_count": 17,
   "outputs": []
  },
  {
   "cell_type": "code",
   "source": [
    "distinct_bots_df = (\n",
    "    predictions_df\n",
    "      .where(F.col(\"prediction\") == 1.0)\n",
    "      .select(\"user\")\n",
    "      .distinct()\n",
    ")\n",
    "\n",
    "distinct_bots = [row.user for row in distinct_bots_df.collect()]"
   ],
   "metadata": {
    "id": "5tpGa2M1KThF"
   },
   "execution_count": 18,
   "outputs": []
  },
  {
   "cell_type": "code",
   "source": [
    "distinct_bots"
   ],
   "metadata": {
    "colab": {
     "base_uri": "https://localhost:8080/"
    },
    "id": "qenMiIynKTey",
    "outputId": "4eaefbd9-4f85-4515-ec95-4c66b34a17ba"
   },
   "execution_count": 19,
   "outputs": [
    {
     "output_type": "execute_result",
     "data": {
      "text/plain": [
       "['Citation bot',\n",
       " 'ListeriaBot',\n",
       " 'HBC AIV helperbot14',\n",
       " 'RussBot',\n",
       " 'B-bot',\n",
       " 'Community Tech bot',\n",
       " 'FMSky',\n",
       " 'ClueBot III',\n",
       " 'SDZeroBot',\n",
       " 'JJMC89 bot III',\n",
       " 'Cyberbot I',\n",
       " 'JJMC89 bot',\n",
       " 'Pi bot',\n",
       " 'InternetArchiveBot',\n",
       " 'EarwigBot',\n",
       " 'HotArticlesBot',\n",
       " 'Qwerfjkl (bot)',\n",
       " 'Yapperbot',\n",
       " 'WP 1.0 bot',\n",
       " 'DatBot',\n",
       " 'Legobot',\n",
       " 'RMCD bot',\n",
       " 'Lowercase sigmabot III',\n",
       " 'FireflyBot',\n",
       " 'FastilyBot',\n",
       " 'AAlertBot',\n",
       " 'AnomieBOT',\n",
       " 'Mathbot',\n",
       " 'Monkbot',\n",
       " 'Filedelinkerbot',\n",
       " 'WugBot',\n",
       " 'EmausBot',\n",
       " 'GreenC bot',\n",
       " 'DeltaQuadBot',\n",
       " 'HaleBot',\n",
       " 'MusikBot II',\n",
       " 'OAbot',\n",
       " 'Cewbot',\n",
       " 'Bot1058',\n",
       " 'DPL bot',\n",
       " 'AManWithNoPlan',\n",
       " 'MediaWiki message delivery',\n",
       " 'MilHistBot',\n",
       " 'InceptionBot',\n",
       " 'DYKUpdateBot',\n",
       " 'Xexerss',\n",
       " 'Mason7512',\n",
       " 'PrimeBOT',\n",
       " 'ChristieBot',\n",
       " 'RichBot',\n",
       " 'Abductive',\n",
       " 'Free ori',\n",
       " 'Toweli',\n",
       " 'PinkDucky91']"
      ]
     },
     "metadata": {},
     "execution_count": 19
    }
   ]
  },
  {
   "cell_type": "markdown",
   "source": [
    "# 5. Bloom Filter"
   ],
   "metadata": {
    "id": "di1UAUqSxfSb"
   }
  },
  {
   "cell_type": "markdown",
   "source": [
    "For a given **Bloom Filter** we consider the next properties.\n",
    "\n",
    "*False Negative* - are not possible (if we are talking about the same sample set, meaning that new items were not introduced or when introduces are added to the BF)\n",
    "\n",
    "*False Positive* - are possible.\n",
    "\n",
    "BloomFilter never forgets (we cannot remove item from it).\n",
    "\n",
    "Bit array stores results of hash functions. Result of hash function corresponds to bit array index.\n",
    "\n",
    "K-number of hash functions defines how frequent collisions may be possible.\n",
    "\n",
    "Seach in Bloom filter will be O(k).\n",
    "\n",
    "In order to create a BF we need to estimate its capacity by assuming how many elements we will fit in it.\n",
    "\n",
    "\n",
    "**Why MurmurHash**:\n",
    "\n",
    "Its support seeds parameter which enables efficient generation of multiple independent hash functions, which is essential for Bloom Filter operation.\n",
    "\n",
    "We need multiple hash functions to minimize collisions(hash count parameter). Instead of creating separate hash functions, we use the same hashing algorithm (mmh3.hash()) with different seeds - this basically simulates using many hash functions."
   ],
   "metadata": {
    "id": "XIOU9NO3xunu"
   }
  },
  {
   "cell_type": "code",
   "source": [
    "distinct_bots = ['Citation bot', 'ListeriaBot', 'HBC AIV helperbot14', 'RussBot', 'B-bot', 'Community Tech bot', 'FMSky',\n",
    "                 'ClueBot III', 'SDZeroBot', 'JJMC89 bot III', 'Cyberbot I', 'JJMC89 bot', 'Pi bot', 'InternetArchiveBot',\n",
    "                 'EarwigBot', 'HotArticlesBot', 'Qwerfjkl (bot)', 'Yapperbot', 'WP 1.0 bot', 'DatBot', 'Legobot', 'RMCD bot',\n",
    "                 'Lowercase sigmabot III', 'FireflyBot', 'FastilyBot', 'AAlertBot', 'AnomieBOT', 'Mathbot', 'Monkbot',\n",
    "                 'Filedelinkerbot', 'WugBot', 'EmausBot', 'GreenC bot', 'DeltaQuadBot', 'HaleBot', 'MusikBot II', 'OAbot',\n",
    "                 'Cewbot', 'Bot1058', 'DPL bot', 'AManWithNoPlan', 'MediaWiki message delivery', 'MilHistBot', 'InceptionBot',\n",
    "                 'DYKUpdateBot', 'Xexerss', 'Mason7512', 'PrimeBOT', 'ChristieBot', 'RichBot', 'Abductive', 'Free ori', 'Toweli', 'PinkDucky91']"
   ],
   "metadata": {
    "id": "_bfKDykJHCjN"
   },
   "execution_count": 26,
   "outputs": []
  },
  {
   "cell_type": "code",
   "source": [
    "class BloomFilter:\n",
    "    def __init__(self, size, hash_count):\n",
    "        self.bit_array = bitarray(size)\n",
    "        self.bit_array.setall(0)\n",
    "        self.size = size\n",
    "        self.hash_count = hash_count\n",
    "\n",
    "    def add(self, item):\n",
    "        for i in range(self.hash_count):\n",
    "            index = mmh3.hash(str(item), i) % self.size\n",
    "            self.bit_array[index] = 1\n",
    "\n",
    "    def __contains__(self, item):\n",
    "        for i in range(self.hash_count):\n",
    "            index = mmh3.hash(str(item), i) % self.size\n",
    "            if self.bit_array[index] == 0:\n",
    "                return False\n",
    "        return True\n"
   ],
   "metadata": {
    "id": "jpEsvpJaxiDb"
   },
   "execution_count": 59,
   "outputs": []
  },
  {
   "cell_type": "markdown",
   "source": [
    "BloomFilter Training is done by adding elements to it.\n",
    "\n",
    "Size should be selected according to the requirement of 10% error."
   ],
   "metadata": {
    "id": "kOYhfwG1yww1"
   }
  },
  {
   "cell_type": "code",
   "source": [
    "import math\n",
    "\n",
    "def calculate_params(n, p):\n",
    "    \"\"\"\n",
    "      n (int): Number of elements to insert into the Bloom Filter.\n",
    "      p (float): Desired false-positive rate.\n",
    "\n",
    "      m (int): Size of the Bloom Filter (number of bits).\n",
    "      k (int): Number of hash functions.\n",
    "    \"\"\"\n",
    "    m = math.ceil(-(n * math.log(p)) / (math.log(2) ** 2))\n",
    "    k = math.ceil((m / n) * math.log(2))\n",
    "\n",
    "    return m, k\n",
    "\n",
    "n = len(distinct_bots)\n",
    "p = 0.1 # desirable fpr\n",
    "m, k = calculate_params(n, p)\n",
    "\n",
    "print(f\"Optimal size of Bloom Filter (m): {m} bits\")\n",
    "print(f\"Optimal number of hash functions (k): {k}\")"
   ],
   "metadata": {
    "id": "OZm6AKg1yy1j",
    "colab": {
     "base_uri": "https://localhost:8080/"
    },
    "outputId": "887f3400-2a63-43fc-8ccf-f33aa15f6329"
   },
   "execution_count": 60,
   "outputs": [
    {
     "output_type": "stream",
     "name": "stdout",
     "text": [
      "Optimal size of Bloom Filter (m): 259 bits\n",
      "Optimal number of hash functions (k): 4\n"
     ]
    }
   ]
  },
  {
   "cell_type": "markdown",
   "source": [
    "**Train** stage of **Bloom Filter** is when we add elements to it."
   ],
   "metadata": {
    "id": "MjJwY_jVy10v"
   }
  },
  {
   "cell_type": "code",
   "source": [
    "from pyspark.sql.functions import col\n",
    "from pyspark.sql import Row\n",
    "import pickle\n",
    "\n",
    "bloom = BloomFilter(size=m, hash_count=k)\n",
    "\n",
    "bot_names = distinct_bots\n",
    "\n",
    "for bot_name in bot_names:\n",
    "    bloom.add(bot_name)\n",
    "\n",
    "print(f\"Bloom Filter contains {len(bot_names)} bots.\")\n",
    "\n",
    "# bloom_state = pickle.dumps((bloom.bit_array, bloom.hash_count, bloom.size))\n",
    "with open(\"bloom_state.pkl\", \"wb\") as file:\n",
    "    pickle.dump((bloom.bit_array, bloom.hash_count, bloom.size), file)"
   ],
   "metadata": {
    "id": "YH0WkDI0y87E",
    "colab": {
     "base_uri": "https://localhost:8080/"
    },
    "outputId": "ec7151a5-e909-455d-c140-d43bfed296c0"
   },
   "execution_count": 53,
   "outputs": [
    {
     "output_type": "stream",
     "name": "stdout",
     "text": [
      "Bloom Filter contains 54 bots.\n"
     ]
    }
   ]
  },
  {
   "cell_type": "markdown",
   "source": [
    "*Usage example:*"
   ],
   "metadata": {
    "id": "nOuNF24Wzp1m"
   }
  },
  {
   "cell_type": "code",
   "source": [
    "from pyspark.sql.functions import udf\n",
    "\n",
    "with open(\"bloom_state.pkl\", \"rb\") as file:\n",
    "    deserialized_data = pickle.load(file)\n",
    "\n",
    "serialized_data = pickle.dumps(deserialized_data)\n",
    "broadcast_bloom_filter = spark.sparkContext.broadcast(serialized_data)\n",
    "\n",
    "def check_bloom_filter(item):\n",
    "    bit_array, hash_count, size = pickle.loads(broadcast_bloom_filter.value)\n",
    "    for i in range(hash_count):\n",
    "        index = mmh3.hash(str(item), i) % size\n",
    "        if bit_array[index] == 0:\n",
    "            return False\n",
    "    return True\n",
    "\n",
    "\n",
    "bloom_udf = udf(check_bloom_filter, BooleanType())\n",
    "result_df = unlabeled_data.withColumn(\"is_bot_bloom\", bloom_udf(col(\"user\")))"
   ],
   "metadata": {
    "id": "XLbbjcSzKEj0"
   },
   "execution_count": 61,
   "outputs": []
  },
  {
   "cell_type": "code",
   "source": [
    "result_df = result_df.withColumn(\n",
    "    \"error_type\",\n",
    "    F.when((F.col(\"is_bot_bloom\") == True) & (F.col(\"bot\") == False), \"FP\")\n",
    "    .when((F.col(\"is_bot_bloom\") == False) & (F.col(\"bot\") == True), \"FN\")\n",
    "    .when((F.col(\"is_bot_bloom\") == True) & (F.col(\"bot\") == True), \"TP\")\n",
    "    .when((F.col(\"is_bot_bloom\") == False) & (F.col(\"bot\") == False), \"TN\")\n",
    ")\n",
    "\n",
    "error_counts = result_df.groupBy(\"error_type\").count()\n",
    "\n",
    "counts = error_counts.collect()\n",
    "counts_dict = {row[\"error_type\"]: row[\"count\"] for row in counts}\n",
    "\n",
    "TP = counts_dict.get(\"TP\", 0)\n",
    "FP = counts_dict.get(\"FP\", 0)\n",
    "FN = counts_dict.get(\"FN\", 0)\n",
    "TN = counts_dict.get(\"TN\", 0)\n",
    "\n",
    "fpr = FP / (FP + TN) if (FP + TN) > 0 else 0\n",
    "fnr = FN / (FN + TP) if (FN + TP) > 0 else 0\n",
    "\n",
    "print(f\"False Positive Rate (FPR): {fpr}\")\n",
    "print(f\"False Negative Rate (FNR): {fnr}\")"
   ],
   "metadata": {
    "colab": {
     "base_uri": "https://localhost:8080/"
    },
    "id": "duVrs9Y7cA-A",
    "outputId": "91fc4f63-1d34-4e47-9746-d738c73f0fb2"
   },
   "execution_count": 62,
   "outputs": [
    {
     "output_type": "stream",
     "name": "stdout",
     "text": [
      "False Positive Rate (FPR): 0.11391780821917809\n",
      "False Negative Rate (FNR): 0.06685714285714285\n"
     ]
    }
   ]
  },
  {
   "cell_type": "markdown",
   "source": [
    "As we can see, the FPR is about 10% while FNR is much bigger but this comes from the perfomance of the classifier model and the fact that new bots can appear in the stream with time. We wish to use Bloom Filter in a real stream now in order to see how it performs in 'production'."
   ],
   "metadata": {
    "id": "DapczVihdcxh"
   }
  }
 ]
}
