{
 "cells": [
  {
   "cell_type": "code",
   "execution_count": 2,
   "id": "54c1a2b18feaa43f",
   "metadata": {
    "ExecuteTime": {
     "end_time": "2024-11-17T17:38:41.525416Z",
     "start_time": "2024-11-17T17:38:41.342106Z"
    }
   },
   "outputs": [],
   "source": [
    "from pyspark.sql import SparkSession\n",
    "from pyspark.sql.functions import from_json, col\n",
    "from pyspark.sql.types import StructField, StructType, StringType, BooleanType, IntegerType\n",
    "from src.configs import *"
   ]
  },
  {
   "cell_type": "code",
   "execution_count": 3,
   "id": "31ce50c3c027e5e1",
   "metadata": {
    "ExecuteTime": {
     "end_time": "2024-11-17T17:38:46.029835Z",
     "start_time": "2024-11-17T17:38:42.009840Z"
    }
   },
   "outputs": [
    {
     "name": "stderr",
     "output_type": "stream",
     "text": [
      "Setting default log level to \"WARN\".\n",
      "To adjust logging level use sc.setLogLevel(newLevel). For SparkR, use setLogLevel(newLevel).\n",
      "24/11/17 19:38:44 WARN NativeCodeLoader: Unable to load native-hadoop library for your platform... using builtin-java classes where applicable\n"
     ]
    }
   ],
   "source": [
    "spark = SparkSession.builder \\\n",
    "    .appName(\"WikiStreamProcessor\") \\\n",
    "    .master(\"local[*]\") \\\n",
    "    .getOrCreate()\n",
    "spark.sparkContext.setLogLevel(\"ERROR\")"
   ]
  },
  {
   "cell_type": "code",
   "execution_count": 12,
   "id": "initial_id",
   "metadata": {
    "ExecuteTime": {
     "end_time": "2024-11-17T17:44:36.815226Z",
     "start_time": "2024-11-17T17:44:36.810480Z"
    },
    "collapsed": true,
    "jupyter": {
     "outputs_hidden": true
    }
   },
   "outputs": [],
   "source": [
    "# Function to read data from socket using PySpark\n",
    "def read_from_socket(spark):\n",
    "    # Define schema for incoming JSON data\n",
    "    schema = StructType([\n",
    "        StructField(\"id\", StringType(), True),\n",
    "        StructField(\"title\", StringType(), True),\n",
    "        StructField(\"timestamp\", StringType(), True),\n",
    "        StructField(\"user\", StringType(), True),\n",
    "        StructField(\"bot\", BooleanType(), True),\n",
    "        StructField(\"minor\", BooleanType(), True),\n",
    "        StructField(\"change\", IntegerType(), True),\n",
    "        StructField(\"comment\", StringType(), True),\n",
    "    ])\n",
    "\n",
    "    # Read from socket\n",
    "    print(f\"Connecting to socket at {SOCKET_HOST}:{SOCKET_PORT}...\")\n",
    "    df = spark.readStream \\\n",
    "        .format(\"socket\") \\\n",
    "        .option(\"host\", SOCKET_HOST) \\\n",
    "        .option(\"port\", SOCKET_PORT) \\\n",
    "        .load()\n",
    "\n",
    "    # Parse JSON from the incoming data stream\n",
    "    parsed_df = df.withColumn(\"data\", from_json(col(\"value\"), schema)).select(\"data.*\")\n",
    "\n",
    "    query = (\n",
    "        parsed_df\n",
    "        .writeStream\n",
    "        .outputMode(\"append\")\n",
    "        .format(\"console\")\n",
    "        .start()\n",
    "    )\n",
    "\n",
    "    query.awaitTermination()"
   ]
  },
  {
   "cell_type": "code",
   "execution_count": 13,
   "id": "ee4636272abc6896",
   "metadata": {
    "ExecuteTime": {
     "end_time": "2024-11-17T17:44:46.328921Z",
     "start_time": "2024-11-17T17:44:37.423673Z"
    }
   },
   "outputs": [
    {
     "name": "stdout",
     "output_type": "stream",
     "text": [
      "Connecting to socket at localhost:9999...\n",
      "-------------------------------------------\n",
      "Batch: 0\n",
      "-------------------------------------------\n",
      "+---+-----+---------+----+---+-----+------+-------+\n",
      "| id|title|timestamp|user|bot|minor|change|comment|\n",
      "+---+-----+---------+----+---+-----+------+-------+\n",
      "+---+-----+---------+----+---+-----+------+-------+\n",
      "\n",
      "-------------------------------------------\n",
      "Batch: 1\n",
      "-------------------------------------------\n",
      "+----------+-----------------+----------+--------------+-----+-----+------+--------------------+\n",
      "|        id|            title| timestamp|          user|  bot|minor|change|             comment|\n",
      "+----------+-----------------+----------+--------------+-----+-----+------+--------------------+\n",
      "|1842145309|Talk:Legacy House|1731865478|OpalYosutebito|false|false|     9|Assessment: banne...|\n",
      "+----------+-----------------+----------+--------------+-----+-----+------+--------------------+\n",
      "\n",
      "-------------------------------------------\n",
      "Batch: 2\n",
      "-------------------------------------------\n",
      "+----------+-----------+----------+--------------+-----+-----+------+-----------+\n",
      "|        id|      title| timestamp|          user|  bot|minor|change|    comment|\n",
      "+----------+-----------+----------+--------------+-----+-----+------+-----------+\n",
      "|1842145310|VR Troopers|1731865477|188.12.125.246|false|false|     5|/* Games */|\n",
      "+----------+-----------+----------+--------------+-----+-----+------+-----------+\n",
      "\n",
      "-------------------------------------------\n",
      "Batch: 3\n",
      "-------------------------------------------\n",
      "+----------+--------------------+----------+-------------+-----+-----+------+--------------------+\n",
      "|        id|               title| timestamp|         user|  bot|minor|change|             comment|\n",
      "+----------+--------------------+----------+-------------+-----+-----+------+--------------------+\n",
      "|1842145311|List of largest e...|1731865466|21.Andromedae|false|false|  -968|/* Unconfirmed ex...|\n",
      "+----------+--------------------+----------+-------------+-----+-----+------+--------------------+\n",
      "\n",
      "-------------------------------------------\n",
      "Batch: 4\n",
      "-------------------------------------------\n",
      "+----------+-------------------+----------+------------------+-----+-----+------+-------+\n",
      "|        id|              title| timestamp|              user|  bot|minor|change|comment|\n",
      "+----------+-------------------+----------+------------------+-----+-----+------+-------+\n",
      "|1842145315|Cemalettin Taşkıran|1731865481|BoyTheKingCanDance|false|false|   -40|    POV|\n",
      "+----------+-------------------+----------+------------------+-----+-----+------+-------+\n",
      "\n",
      "-------------------------------------------\n",
      "Batch: 5\n",
      "-------------------------------------------\n",
      "+----------+-------------------+----------+------+-----+-----+------+-------------+\n",
      "|        id|              title| timestamp|  user|  bot|minor|change|      comment|\n",
      "+----------+-------------------+----------+------+-----+-----+------+-------------+\n",
      "|1842145317|User:Gonnym/sandbox|1731865480|Gonnym|false|false|     1|/* Testing */|\n",
      "+----------+-------------------+----------+------+-----+-----+------+-------------+\n",
      "\n",
      "-------------------------------------------\n",
      "Batch: 6\n",
      "-------------------------------------------\n",
      "+----------+-------+----------+---------+-----+-----+------+-------+\n",
      "|        id|  title| timestamp|     user|  bot|minor|change|comment|\n",
      "+----------+-------+----------+---------+-----+-----+------+-------+\n",
      "|1842145318|Kalaroa|1731865480|Stud.asif|false|false|     6|       |\n",
      "+----------+-------+----------+---------+-----+-----+------+-------+\n",
      "\n",
      "-------------------------------------------\n",
      "Batch: 7\n",
      "-------------------------------------------\n",
      "+----------+--------------------+----------+--------------+----+-----+------+--------------------+\n",
      "|        id|               title| timestamp|          user| bot|minor|change|             comment|\n",
      "+----------+--------------------+----------+--------------+----+-----+------+--------------------+\n",
      "|1842145320|Wikipedia:Request...|1731865482|Qwerfjkl (bot)|true| true|     7|Fixing [[Wikipedi...|\n",
      "+----------+--------------------+----------+--------------+----+-----+------+--------------------+\n",
      "\n",
      "-------------------------------------------\n",
      "Batch: 8\n",
      "-------------------------------------------\n",
      "+----------+--------------------+----------+-------------+-----+-----+------+--------------------+\n",
      "|        id|               title| timestamp|         user|  bot|minor|change|             comment|\n",
      "+----------+--------------------+----------+-------------+-----+-----+------+--------------------+\n",
      "|1842145319|2-Chlorobenzaldehyde|1731865481|    Smokefoot|false|false|   121|                tidy|\n",
      "|1842145322|2024–25 UEFA Nati...|1731865480|       Tedeff|false|false|    35|       /* Seeding */|\n",
      "|1842145323|              Radian|1731865478|     Mirus255|false|false|     5|                    |\n",
      "|1842145324|School attacks in...|1731865481|  CornyDude22|false|false|  -821|/* November 2024 ...|\n",
      "|1842145325|Wikipedia:Request...|1731865482|NightWolf1223|false|false|   496|/* Wikipedia:Help...|\n",
      "+----------+--------------------+----------+-------------+-----+-----+------+--------------------+\n",
      "\n",
      "-------------------------------------------\n",
      "Batch: 9\n",
      "-------------------------------------------\n",
      "+----------+--------------------+----------+-------+-----+-----+------+--------------------+\n",
      "|        id|               title| timestamp|   user|  bot|minor|change|             comment|\n",
      "+----------+--------------------+----------+-------+-----+-----+------+--------------------+\n",
      "|1842145327|Shawnee State Uni...|1731865482|ElKevbo|false|false|   -67|/* History */ [[W...|\n",
      "+----------+--------------------+----------+-------+-----+-----+------+--------------------+\n",
      "\n"
     ]
    },
    {
     "name": "stderr",
     "output_type": "stream",
     "text": [
      "ERROR:root:KeyboardInterrupt while sending command.\n",
      "Traceback (most recent call last):\n",
      "  File \"/Users/mpalamariuk/anaconda3/envs/mmds-project/lib/python3.11/site-packages/py4j/java_gateway.py\", line 1038, in send_command\n",
      "    response = connection.send_command(command)\n",
      "               ^^^^^^^^^^^^^^^^^^^^^^^^^^^^^^^^\n",
      "  File \"/Users/mpalamariuk/anaconda3/envs/mmds-project/lib/python3.11/site-packages/py4j/clientserver.py\", line 511, in send_command\n",
      "    answer = smart_decode(self.stream.readline()[:-1])\n",
      "                          ^^^^^^^^^^^^^^^^^^^^^^\n",
      "  File \"/Users/mpalamariuk/anaconda3/envs/mmds-project/lib/python3.11/socket.py\", line 718, in readinto\n",
      "    return self._sock.recv_into(b)\n",
      "           ^^^^^^^^^^^^^^^^^^^^^^^\n",
      "KeyboardInterrupt\n"
     ]
    },
    {
     "name": "stdout",
     "output_type": "stream",
     "text": [
      "-------------------------------------------\n",
      "Batch: 10\n",
      "-------------------------------------------\n",
      "+----------+--------------------+----------+-----------------+-----+-----+------+--------------------+\n",
      "|        id|               title| timestamp|             user|  bot|minor|change|             comment|\n",
      "+----------+--------------------+----------+-----------------+-----+-----+------+--------------------+\n",
      "|1842145328|Scottish Nosepickers|1731865484|UltrasonicMadness|false|false|   -17|Alternative spaci...|\n",
      "+----------+--------------------+----------+-----------------+-----+-----+------+--------------------+\n",
      "\n"
     ]
    },
    {
     "ename": "KeyboardInterrupt",
     "evalue": "",
     "output_type": "error",
     "traceback": [
      "\u001B[0;31m---------------------------------------------------------------------------\u001B[0m",
      "\u001B[0;31mKeyboardInterrupt\u001B[0m                         Traceback (most recent call last)",
      "Cell \u001B[0;32mIn[13], line 1\u001B[0m\n\u001B[0;32m----> 1\u001B[0m \u001B[43mread_from_socket\u001B[49m\u001B[43m(\u001B[49m\u001B[43mspark\u001B[49m\u001B[43m)\u001B[49m\n",
      "Cell \u001B[0;32mIn[12], line 34\u001B[0m, in \u001B[0;36mread_from_socket\u001B[0;34m(spark)\u001B[0m\n\u001B[1;32m     24\u001B[0m parsed_df \u001B[38;5;241m=\u001B[39m df\u001B[38;5;241m.\u001B[39mwithColumn(\u001B[38;5;124m\"\u001B[39m\u001B[38;5;124mdata\u001B[39m\u001B[38;5;124m\"\u001B[39m, from_json(col(\u001B[38;5;124m\"\u001B[39m\u001B[38;5;124mvalue\u001B[39m\u001B[38;5;124m\"\u001B[39m), schema))\u001B[38;5;241m.\u001B[39mselect(\u001B[38;5;124m\"\u001B[39m\u001B[38;5;124mdata.*\u001B[39m\u001B[38;5;124m\"\u001B[39m)\n\u001B[1;32m     26\u001B[0m query \u001B[38;5;241m=\u001B[39m (\n\u001B[1;32m     27\u001B[0m     parsed_df\n\u001B[1;32m     28\u001B[0m     \u001B[38;5;241m.\u001B[39mwriteStream\n\u001B[0;32m   (...)\u001B[0m\n\u001B[1;32m     31\u001B[0m     \u001B[38;5;241m.\u001B[39mstart()\n\u001B[1;32m     32\u001B[0m )\n\u001B[0;32m---> 34\u001B[0m \u001B[43mquery\u001B[49m\u001B[38;5;241;43m.\u001B[39;49m\u001B[43mawaitTermination\u001B[49m\u001B[43m(\u001B[49m\u001B[43m)\u001B[49m\n",
      "File \u001B[0;32m~/anaconda3/envs/mmds-project/lib/python3.11/site-packages/pyspark/sql/streaming/query.py:221\u001B[0m, in \u001B[0;36mStreamingQuery.awaitTermination\u001B[0;34m(self, timeout)\u001B[0m\n\u001B[1;32m    219\u001B[0m     \u001B[38;5;28;01mreturn\u001B[39;00m \u001B[38;5;28mself\u001B[39m\u001B[38;5;241m.\u001B[39m_jsq\u001B[38;5;241m.\u001B[39mawaitTermination(\u001B[38;5;28mint\u001B[39m(timeout \u001B[38;5;241m*\u001B[39m \u001B[38;5;241m1000\u001B[39m))\n\u001B[1;32m    220\u001B[0m \u001B[38;5;28;01melse\u001B[39;00m:\n\u001B[0;32m--> 221\u001B[0m     \u001B[38;5;28;01mreturn\u001B[39;00m \u001B[38;5;28;43mself\u001B[39;49m\u001B[38;5;241;43m.\u001B[39;49m\u001B[43m_jsq\u001B[49m\u001B[38;5;241;43m.\u001B[39;49m\u001B[43mawaitTermination\u001B[49m\u001B[43m(\u001B[49m\u001B[43m)\u001B[49m\n",
      "File \u001B[0;32m~/anaconda3/envs/mmds-project/lib/python3.11/site-packages/py4j/java_gateway.py:1321\u001B[0m, in \u001B[0;36mJavaMember.__call__\u001B[0;34m(self, *args)\u001B[0m\n\u001B[1;32m   1314\u001B[0m args_command, temp_args \u001B[38;5;241m=\u001B[39m \u001B[38;5;28mself\u001B[39m\u001B[38;5;241m.\u001B[39m_build_args(\u001B[38;5;241m*\u001B[39margs)\n\u001B[1;32m   1316\u001B[0m command \u001B[38;5;241m=\u001B[39m proto\u001B[38;5;241m.\u001B[39mCALL_COMMAND_NAME \u001B[38;5;241m+\u001B[39m\\\n\u001B[1;32m   1317\u001B[0m     \u001B[38;5;28mself\u001B[39m\u001B[38;5;241m.\u001B[39mcommand_header \u001B[38;5;241m+\u001B[39m\\\n\u001B[1;32m   1318\u001B[0m     args_command \u001B[38;5;241m+\u001B[39m\\\n\u001B[1;32m   1319\u001B[0m     proto\u001B[38;5;241m.\u001B[39mEND_COMMAND_PART\n\u001B[0;32m-> 1321\u001B[0m answer \u001B[38;5;241m=\u001B[39m \u001B[38;5;28;43mself\u001B[39;49m\u001B[38;5;241;43m.\u001B[39;49m\u001B[43mgateway_client\u001B[49m\u001B[38;5;241;43m.\u001B[39;49m\u001B[43msend_command\u001B[49m\u001B[43m(\u001B[49m\u001B[43mcommand\u001B[49m\u001B[43m)\u001B[49m\n\u001B[1;32m   1322\u001B[0m return_value \u001B[38;5;241m=\u001B[39m get_return_value(\n\u001B[1;32m   1323\u001B[0m     answer, \u001B[38;5;28mself\u001B[39m\u001B[38;5;241m.\u001B[39mgateway_client, \u001B[38;5;28mself\u001B[39m\u001B[38;5;241m.\u001B[39mtarget_id, \u001B[38;5;28mself\u001B[39m\u001B[38;5;241m.\u001B[39mname)\n\u001B[1;32m   1325\u001B[0m \u001B[38;5;28;01mfor\u001B[39;00m temp_arg \u001B[38;5;129;01min\u001B[39;00m temp_args:\n",
      "File \u001B[0;32m~/anaconda3/envs/mmds-project/lib/python3.11/site-packages/py4j/java_gateway.py:1038\u001B[0m, in \u001B[0;36mGatewayClient.send_command\u001B[0;34m(self, command, retry, binary)\u001B[0m\n\u001B[1;32m   1036\u001B[0m connection \u001B[38;5;241m=\u001B[39m \u001B[38;5;28mself\u001B[39m\u001B[38;5;241m.\u001B[39m_get_connection()\n\u001B[1;32m   1037\u001B[0m \u001B[38;5;28;01mtry\u001B[39;00m:\n\u001B[0;32m-> 1038\u001B[0m     response \u001B[38;5;241m=\u001B[39m \u001B[43mconnection\u001B[49m\u001B[38;5;241;43m.\u001B[39;49m\u001B[43msend_command\u001B[49m\u001B[43m(\u001B[49m\u001B[43mcommand\u001B[49m\u001B[43m)\u001B[49m\n\u001B[1;32m   1039\u001B[0m     \u001B[38;5;28;01mif\u001B[39;00m binary:\n\u001B[1;32m   1040\u001B[0m         \u001B[38;5;28;01mreturn\u001B[39;00m response, \u001B[38;5;28mself\u001B[39m\u001B[38;5;241m.\u001B[39m_create_connection_guard(connection)\n",
      "File \u001B[0;32m~/anaconda3/envs/mmds-project/lib/python3.11/site-packages/py4j/clientserver.py:511\u001B[0m, in \u001B[0;36mClientServerConnection.send_command\u001B[0;34m(self, command)\u001B[0m\n\u001B[1;32m    509\u001B[0m \u001B[38;5;28;01mtry\u001B[39;00m:\n\u001B[1;32m    510\u001B[0m     \u001B[38;5;28;01mwhile\u001B[39;00m \u001B[38;5;28;01mTrue\u001B[39;00m:\n\u001B[0;32m--> 511\u001B[0m         answer \u001B[38;5;241m=\u001B[39m smart_decode(\u001B[38;5;28mself\u001B[39m\u001B[38;5;241m.\u001B[39mstream\u001B[38;5;241m.\u001B[39mreadline()[:\u001B[38;5;241m-\u001B[39m\u001B[38;5;241m1\u001B[39m])\n\u001B[1;32m    512\u001B[0m         logger\u001B[38;5;241m.\u001B[39mdebug(\u001B[38;5;124m\"\u001B[39m\u001B[38;5;124mAnswer received: \u001B[39m\u001B[38;5;132;01m{0}\u001B[39;00m\u001B[38;5;124m\"\u001B[39m\u001B[38;5;241m.\u001B[39mformat(answer))\n\u001B[1;32m    513\u001B[0m         \u001B[38;5;66;03m# Happens when a the other end is dead. There might be an empty\u001B[39;00m\n\u001B[1;32m    514\u001B[0m         \u001B[38;5;66;03m# answer before the socket raises an error.\u001B[39;00m\n",
      "File \u001B[0;32m~/anaconda3/envs/mmds-project/lib/python3.11/socket.py:718\u001B[0m, in \u001B[0;36mSocketIO.readinto\u001B[0;34m(self, b)\u001B[0m\n\u001B[1;32m    716\u001B[0m \u001B[38;5;28;01mwhile\u001B[39;00m \u001B[38;5;28;01mTrue\u001B[39;00m:\n\u001B[1;32m    717\u001B[0m     \u001B[38;5;28;01mtry\u001B[39;00m:\n\u001B[0;32m--> 718\u001B[0m         \u001B[38;5;28;01mreturn\u001B[39;00m \u001B[38;5;28;43mself\u001B[39;49m\u001B[38;5;241;43m.\u001B[39;49m\u001B[43m_sock\u001B[49m\u001B[38;5;241;43m.\u001B[39;49m\u001B[43mrecv_into\u001B[49m\u001B[43m(\u001B[49m\u001B[43mb\u001B[49m\u001B[43m)\u001B[49m\n\u001B[1;32m    719\u001B[0m     \u001B[38;5;28;01mexcept\u001B[39;00m timeout:\n\u001B[1;32m    720\u001B[0m         \u001B[38;5;28mself\u001B[39m\u001B[38;5;241m.\u001B[39m_timeout_occurred \u001B[38;5;241m=\u001B[39m \u001B[38;5;28;01mTrue\u001B[39;00m\n",
      "\u001B[0;31mKeyboardInterrupt\u001B[0m: "
     ]
    }
   ],
   "source": [
    "read_from_socket(spark)"
   ]
  },
  {
   "cell_type": "code",
   "execution_count": null,
   "id": "faf78940c58c239d",
   "metadata": {},
   "outputs": [],
   "source": []
  }
 ],
 "metadata": {
  "kernelspec": {
   "display_name": "Python 3 (ipykernel)",
   "language": "python",
   "name": "python3"
  },
  "language_info": {
   "codemirror_mode": {
    "name": "ipython",
    "version": 3
   },
   "file_extension": ".py",
   "mimetype": "text/x-python",
   "name": "python",
   "nbconvert_exporter": "python",
   "pygments_lexer": "ipython3",
   "version": "3.11.10"
  }
 },
 "nbformat": 4,
 "nbformat_minor": 5
}
